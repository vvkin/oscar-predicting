{
 "cells": [
  {
   "cell_type": "markdown",
   "id": "clean-impossible",
   "metadata": {},
   "source": [
    "# Prepare data"
   ]
  },
  {
   "cell_type": "markdown",
   "id": "measured-center",
   "metadata": {},
   "source": [
    "## Import libraries"
   ]
  },
  {
   "cell_type": "code",
   "execution_count": 1,
   "id": "basic-spine",
   "metadata": {},
   "outputs": [],
   "source": [
    "import numpy as np\n",
    "import pandas as pd"
   ]
  },
  {
   "cell_type": "markdown",
   "id": "medium-crisis",
   "metadata": {},
   "source": [
    "## Read datasets"
   ]
  },
  {
   "cell_type": "code",
   "execution_count": 2,
   "id": "boring-karaoke",
   "metadata": {},
   "outputs": [
    {
     "data": {
      "text/html": [
       "<div>\n",
       "<style scoped>\n",
       "    .dataframe tbody tr th:only-of-type {\n",
       "        vertical-align: middle;\n",
       "    }\n",
       "\n",
       "    .dataframe tbody tr th {\n",
       "        vertical-align: top;\n",
       "    }\n",
       "\n",
       "    .dataframe thead th {\n",
       "        text-align: right;\n",
       "    }\n",
       "</style>\n",
       "<table border=\"1\" class=\"dataframe\">\n",
       "  <thead>\n",
       "    <tr style=\"text-align: right;\">\n",
       "      <th></th>\n",
       "      <th>year</th>\n",
       "      <th>winner</th>\n",
       "      <th>nominee</th>\n",
       "      <th>movie</th>\n",
       "      <th>wiki_url</th>\n",
       "      <th>award</th>\n",
       "      <th>category</th>\n",
       "    </tr>\n",
       "  </thead>\n",
       "  <tbody>\n",
       "    <tr>\n",
       "      <th>0</th>\n",
       "      <td>1980</td>\n",
       "      <td>True</td>\n",
       "      <td>Robert De Niro</td>\n",
       "      <td>Raging Bull</td>\n",
       "      <td>/wiki/Raging_Bull</td>\n",
       "      <td>oscar</td>\n",
       "      <td>actor</td>\n",
       "    </tr>\n",
       "    <tr>\n",
       "      <th>1</th>\n",
       "      <td>1980</td>\n",
       "      <td>False</td>\n",
       "      <td>Robert Duvall</td>\n",
       "      <td>The Great Santini</td>\n",
       "      <td>/wiki/The_Great_Santini</td>\n",
       "      <td>oscar</td>\n",
       "      <td>actor</td>\n",
       "    </tr>\n",
       "    <tr>\n",
       "      <th>2</th>\n",
       "      <td>1980</td>\n",
       "      <td>False</td>\n",
       "      <td>John Hurt</td>\n",
       "      <td>The Elephant Man</td>\n",
       "      <td>/wiki/The_Elephant_Man_(film)</td>\n",
       "      <td>oscar</td>\n",
       "      <td>actor</td>\n",
       "    </tr>\n",
       "    <tr>\n",
       "      <th>3</th>\n",
       "      <td>1980</td>\n",
       "      <td>False</td>\n",
       "      <td>Jack Lemmon</td>\n",
       "      <td>Tribute</td>\n",
       "      <td>/wiki/Tribute_(1980_film)</td>\n",
       "      <td>oscar</td>\n",
       "      <td>actor</td>\n",
       "    </tr>\n",
       "    <tr>\n",
       "      <th>4</th>\n",
       "      <td>1980</td>\n",
       "      <td>False</td>\n",
       "      <td>Peter O'Toole</td>\n",
       "      <td>The Stunt Man</td>\n",
       "      <td>/wiki/The_Stunt_Man</td>\n",
       "      <td>oscar</td>\n",
       "      <td>actor</td>\n",
       "    </tr>\n",
       "  </tbody>\n",
       "</table>\n",
       "</div>"
      ],
      "text/plain": [
       "   year  winner         nominee              movie  \\\n",
       "0  1980    True  Robert De Niro        Raging Bull   \n",
       "1  1980   False   Robert Duvall  The Great Santini   \n",
       "2  1980   False       John Hurt   The Elephant Man   \n",
       "3  1980   False     Jack Lemmon            Tribute   \n",
       "4  1980   False   Peter O'Toole      The Stunt Man   \n",
       "\n",
       "                        wiki_url  award category  \n",
       "0              /wiki/Raging_Bull  oscar    actor  \n",
       "1        /wiki/The_Great_Santini  oscar    actor  \n",
       "2  /wiki/The_Elephant_Man_(film)  oscar    actor  \n",
       "3      /wiki/Tribute_(1980_film)  oscar    actor  \n",
       "4            /wiki/The_Stunt_Man  oscar    actor  "
      ]
     },
     "execution_count": 2,
     "metadata": {},
     "output_type": "execute_result"
    }
   ],
   "source": [
    "awards_df = pd.read_csv('../data/awards.csv')\n",
    "awards_df.head()"
   ]
  },
  {
   "cell_type": "code",
   "execution_count": 3,
   "id": "adopted-hamilton",
   "metadata": {},
   "outputs": [
    {
     "data": {
      "text/html": [
       "<div>\n",
       "<style scoped>\n",
       "    .dataframe tbody tr th:only-of-type {\n",
       "        vertical-align: middle;\n",
       "    }\n",
       "\n",
       "    .dataframe tbody tr th {\n",
       "        vertical-align: top;\n",
       "    }\n",
       "\n",
       "    .dataframe thead th {\n",
       "        text-align: right;\n",
       "    }\n",
       "</style>\n",
       "<table border=\"1\" class=\"dataframe\">\n",
       "  <thead>\n",
       "    <tr style=\"text-align: right;\">\n",
       "      <th></th>\n",
       "      <th>movie</th>\n",
       "      <th>year</th>\n",
       "      <th>success</th>\n",
       "      <th>imdb_id</th>\n",
       "      <th>rated</th>\n",
       "      <th>runtime</th>\n",
       "      <th>genres</th>\n",
       "      <th>director</th>\n",
       "      <th>writer</th>\n",
       "      <th>cast</th>\n",
       "      <th>language</th>\n",
       "      <th>country</th>\n",
       "      <th>imdb_score</th>\n",
       "      <th>imdb_votes</th>\n",
       "      <th>rt_score</th>\n",
       "      <th>metascore</th>\n",
       "      <th>box_office</th>\n",
       "      <th>other_win</th>\n",
       "      <th>other_nom</th>\n",
       "    </tr>\n",
       "  </thead>\n",
       "  <tbody>\n",
       "    <tr>\n",
       "      <th>0</th>\n",
       "      <td>Raging Bull</td>\n",
       "      <td>1980</td>\n",
       "      <td>True</td>\n",
       "      <td>tt0081398</td>\n",
       "      <td>R</td>\n",
       "      <td>129 min</td>\n",
       "      <td>Biography, Drama, Sport</td>\n",
       "      <td>Martin Scorsese</td>\n",
       "      <td>Jake LaMotta (based on the book by), Joseph Ca...</td>\n",
       "      <td>Robert De Niro, Cathy Moriarty, Joe Pesci, Fra...</td>\n",
       "      <td>English</td>\n",
       "      <td>USA</td>\n",
       "      <td>8.2</td>\n",
       "      <td>326,193</td>\n",
       "      <td>93</td>\n",
       "      <td>89.0</td>\n",
       "      <td>$23,383,987</td>\n",
       "      <td>22.0</td>\n",
       "      <td>28.0</td>\n",
       "    </tr>\n",
       "    <tr>\n",
       "      <th>1</th>\n",
       "      <td>The Great Santini</td>\n",
       "      <td>1980</td>\n",
       "      <td>True</td>\n",
       "      <td>tt0079239</td>\n",
       "      <td>PG</td>\n",
       "      <td>115 min</td>\n",
       "      <td>Drama</td>\n",
       "      <td>Lewis John Carlino</td>\n",
       "      <td>Pat Conroy (novel), Lewis John Carlino (writte...</td>\n",
       "      <td>Robert Duvall, Blythe Danner, Michael O'Keefe,...</td>\n",
       "      <td>English</td>\n",
       "      <td>USA</td>\n",
       "      <td>7.2</td>\n",
       "      <td>5,756</td>\n",
       "      <td>95</td>\n",
       "      <td>64.0</td>\n",
       "      <td>$4,702,575</td>\n",
       "      <td>3.0</td>\n",
       "      <td>4.0</td>\n",
       "    </tr>\n",
       "    <tr>\n",
       "      <th>2</th>\n",
       "      <td>The Elephant Man</td>\n",
       "      <td>1980</td>\n",
       "      <td>True</td>\n",
       "      <td>tt0080678</td>\n",
       "      <td>PG</td>\n",
       "      <td>124 min</td>\n",
       "      <td>Biography, Drama</td>\n",
       "      <td>David Lynch</td>\n",
       "      <td>Christopher De Vore (screenplay), Eric Bergren...</td>\n",
       "      <td>Anthony Hopkins, John Hurt, Anne Bancroft, Joh...</td>\n",
       "      <td>English, French</td>\n",
       "      <td>USA, UK</td>\n",
       "      <td>8.1</td>\n",
       "      <td>224,116</td>\n",
       "      <td>92</td>\n",
       "      <td>78.0</td>\n",
       "      <td>$26,010,864</td>\n",
       "      <td>10.0</td>\n",
       "      <td>14.0</td>\n",
       "    </tr>\n",
       "    <tr>\n",
       "      <th>3</th>\n",
       "      <td>Tribute</td>\n",
       "      <td>1980</td>\n",
       "      <td>True</td>\n",
       "      <td>tt0081656</td>\n",
       "      <td>PG</td>\n",
       "      <td>121 min</td>\n",
       "      <td>Comedy, Drama</td>\n",
       "      <td>Bob Clark</td>\n",
       "      <td>Bernard Slade (play), Bernard Slade (screenplay)</td>\n",
       "      <td>Jack Lemmon, Robby Benson, Lee Remick, Colleen...</td>\n",
       "      <td>English</td>\n",
       "      <td>Canada</td>\n",
       "      <td>6.2</td>\n",
       "      <td>642</td>\n",
       "      <td>55</td>\n",
       "      <td>NaN</td>\n",
       "      <td>$9,000,000</td>\n",
       "      <td>2.0</td>\n",
       "      <td>13.0</td>\n",
       "    </tr>\n",
       "    <tr>\n",
       "      <th>4</th>\n",
       "      <td>The Stunt Man</td>\n",
       "      <td>1980</td>\n",
       "      <td>True</td>\n",
       "      <td>tt0081568</td>\n",
       "      <td>R</td>\n",
       "      <td>131 min</td>\n",
       "      <td>Action, Comedy, Drama, Romance, Thriller</td>\n",
       "      <td>Richard Rush</td>\n",
       "      <td>Lawrence B. Marcus (screenplay), Richard Rush ...</td>\n",
       "      <td>Peter O'Toole, Steve Railsback, Barbara Hershe...</td>\n",
       "      <td>English</td>\n",
       "      <td>USA</td>\n",
       "      <td>7.0</td>\n",
       "      <td>8,848</td>\n",
       "      <td>90</td>\n",
       "      <td>77.0</td>\n",
       "      <td>$7,063,886</td>\n",
       "      <td>4.0</td>\n",
       "      <td>8.0</td>\n",
       "    </tr>\n",
       "  </tbody>\n",
       "</table>\n",
       "</div>"
      ],
      "text/plain": [
       "               movie  year  success    imdb_id rated  runtime  \\\n",
       "0        Raging Bull  1980     True  tt0081398     R  129 min   \n",
       "1  The Great Santini  1980     True  tt0079239    PG  115 min   \n",
       "2   The Elephant Man  1980     True  tt0080678    PG  124 min   \n",
       "3            Tribute  1980     True  tt0081656    PG  121 min   \n",
       "4      The Stunt Man  1980     True  tt0081568     R  131 min   \n",
       "\n",
       "                                     genres            director  \\\n",
       "0                   Biography, Drama, Sport     Martin Scorsese   \n",
       "1                                     Drama  Lewis John Carlino   \n",
       "2                          Biography, Drama         David Lynch   \n",
       "3                             Comedy, Drama           Bob Clark   \n",
       "4  Action, Comedy, Drama, Romance, Thriller        Richard Rush   \n",
       "\n",
       "                                              writer  \\\n",
       "0  Jake LaMotta (based on the book by), Joseph Ca...   \n",
       "1  Pat Conroy (novel), Lewis John Carlino (writte...   \n",
       "2  Christopher De Vore (screenplay), Eric Bergren...   \n",
       "3   Bernard Slade (play), Bernard Slade (screenplay)   \n",
       "4  Lawrence B. Marcus (screenplay), Richard Rush ...   \n",
       "\n",
       "                                                cast         language  \\\n",
       "0  Robert De Niro, Cathy Moriarty, Joe Pesci, Fra...          English   \n",
       "1  Robert Duvall, Blythe Danner, Michael O'Keefe,...          English   \n",
       "2  Anthony Hopkins, John Hurt, Anne Bancroft, Joh...  English, French   \n",
       "3  Jack Lemmon, Robby Benson, Lee Remick, Colleen...          English   \n",
       "4  Peter O'Toole, Steve Railsback, Barbara Hershe...          English   \n",
       "\n",
       "   country  imdb_score imdb_votes rt_score  metascore   box_office  other_win  \\\n",
       "0      USA         8.2    326,193       93       89.0  $23,383,987       22.0   \n",
       "1      USA         7.2      5,756       95       64.0   $4,702,575        3.0   \n",
       "2  USA, UK         8.1    224,116       92       78.0  $26,010,864       10.0   \n",
       "3   Canada         6.2        642       55        NaN   $9,000,000        2.0   \n",
       "4      USA         7.0      8,848       90       77.0   $7,063,886        4.0   \n",
       "\n",
       "   other_nom  \n",
       "0       28.0  \n",
       "1        4.0  \n",
       "2       14.0  \n",
       "3       13.0  \n",
       "4        8.0  "
      ]
     },
     "execution_count": 3,
     "metadata": {},
     "output_type": "execute_result"
    }
   ],
   "source": [
    "movies_df = pd.read_csv('../data/movies.csv')\n",
    "movies_df.head()"
   ]
  },
  {
   "cell_type": "markdown",
   "id": "tight-julian",
   "metadata": {},
   "source": [
    "## Prepare movies dataset"
   ]
  },
  {
   "cell_type": "markdown",
   "id": "informational-insight",
   "metadata": {},
   "source": [
    "### Show general information"
   ]
  },
  {
   "cell_type": "code",
   "execution_count": 4,
   "id": "impaired-reproduction",
   "metadata": {},
   "outputs": [
    {
     "name": "stdout",
     "output_type": "stream",
     "text": [
      "<class 'pandas.core.frame.DataFrame'>\n",
      "RangeIndex: 499 entries, 0 to 498\n",
      "Data columns (total 19 columns):\n",
      " #   Column      Non-Null Count  Dtype  \n",
      "---  ------      --------------  -----  \n",
      " 0   movie       499 non-null    object \n",
      " 1   year        499 non-null    int64  \n",
      " 2   success     499 non-null    bool   \n",
      " 3   imdb_id     492 non-null    object \n",
      " 4   rated       477 non-null    object \n",
      " 5   runtime     487 non-null    object \n",
      " 6   genres      492 non-null    object \n",
      " 7   director    486 non-null    object \n",
      " 8   writer      481 non-null    object \n",
      " 9   cast        492 non-null    object \n",
      " 10  language    491 non-null    object \n",
      " 11  country     492 non-null    object \n",
      " 12  imdb_score  485 non-null    float64\n",
      " 13  imdb_votes  485 non-null    object \n",
      " 14  rt_score    479 non-null    object \n",
      " 15  metascore   451 non-null    float64\n",
      " 16  box_office  465 non-null    object \n",
      " 17  other_win   471 non-null    float64\n",
      " 18  other_nom   471 non-null    float64\n",
      "dtypes: bool(1), float64(4), int64(1), object(13)\n",
      "memory usage: 70.8+ KB\n"
     ]
    }
   ],
   "source": [
    "movies_df.info()"
   ]
  },
  {
   "cell_type": "markdown",
   "id": "innovative-thomson",
   "metadata": {},
   "source": [
    "### Delete insignificant columns"
   ]
  },
  {
   "cell_type": "code",
   "execution_count": 5,
   "id": "silver-black",
   "metadata": {},
   "outputs": [],
   "source": [
    "movies_df = movies_df.drop(columns=['cast', 'writer', 'country', 'success', 'imdb_id', 'box_office'], axis=1)"
   ]
  },
  {
   "cell_type": "markdown",
   "id": "amino-smell",
   "metadata": {},
   "source": [
    "### Delete null values"
   ]
  },
  {
   "cell_type": "code",
   "execution_count": 6,
   "id": "infinite-external",
   "metadata": {},
   "outputs": [
    {
     "data": {
      "text/plain": [
       "movie          0\n",
       "year           0\n",
       "rated         22\n",
       "runtime       12\n",
       "genres         7\n",
       "director      13\n",
       "language       8\n",
       "imdb_score    14\n",
       "imdb_votes    14\n",
       "rt_score      20\n",
       "metascore     48\n",
       "other_win     28\n",
       "other_nom     28\n",
       "dtype: int64"
      ]
     },
     "execution_count": 6,
     "metadata": {},
     "output_type": "execute_result"
    }
   ],
   "source": [
    "movies_df.isnull().sum()"
   ]
  },
  {
   "cell_type": "code",
   "execution_count": 7,
   "id": "upper-maple",
   "metadata": {},
   "outputs": [],
   "source": [
    "movies_df = movies_df.fillna(value={'rated': 'Not Rated'})"
   ]
  },
  {
   "cell_type": "code",
   "execution_count": 8,
   "id": "vocal-solomon",
   "metadata": {},
   "outputs": [
    {
     "name": "stdout",
     "output_type": "stream",
     "text": [
      "Shape after cleaning: (447, 13)\n"
     ]
    }
   ],
   "source": [
    "movies_df.dropna(inplace=True)\n",
    "print('Shape after cleaning:', movies_df.shape)"
   ]
  },
  {
   "cell_type": "markdown",
   "id": "contemporary-peter",
   "metadata": {},
   "source": [
    "### Prettify and normalize numeric values (scores, votes)"
   ]
  },
  {
   "cell_type": "markdown",
   "id": "representative-exploration",
   "metadata": {},
   "source": [
    "#### Parse numbers"
   ]
  },
  {
   "cell_type": "code",
   "execution_count": 9,
   "id": "departmental-healthcare",
   "metadata": {},
   "outputs": [],
   "source": [
    "movies_df['rt_score'] = movies_df.rt_score.map(lambda x: x.split('/')[0])\n",
    "movies_df['imdb_votes'] = movies_df.imdb_votes.map(lambda x: x.replace(',', ''))\n",
    "movies_df['runtime'] = movies_df.runtime.map(lambda x: x.split()[0])"
   ]
  },
  {
   "cell_type": "markdown",
   "id": "about-police",
   "metadata": {},
   "source": [
    "#### Set dtypes"
   ]
  },
  {
   "cell_type": "code",
   "execution_count": 10,
   "id": "legal-visiting",
   "metadata": {},
   "outputs": [],
   "source": [
    "movies_df = movies_df.astype({\n",
    "    'rt_score': float, \n",
    "    'metascore': float, \n",
    "    'imdb_score': float,\n",
    "    'imdb_votes': int,\n",
    "    'runtime': int,\n",
    "#     'box_office': int,\n",
    "    'other_win': int,\n",
    "    'other_nom': int,\n",
    "})"
   ]
  },
  {
   "cell_type": "markdown",
   "id": "auburn-activity",
   "metadata": {},
   "source": [
    "#### Normalize scores"
   ]
  },
  {
   "cell_type": "code",
   "execution_count": 11,
   "id": "rising-communication",
   "metadata": {},
   "outputs": [],
   "source": [
    "movies_df['rt_score'] /= 10\n",
    "movies_df['metascore'] /= 10"
   ]
  },
  {
   "cell_type": "markdown",
   "id": "central-string",
   "metadata": {},
   "source": [
    "#### Check result"
   ]
  },
  {
   "cell_type": "code",
   "execution_count": 12,
   "id": "adult-protest",
   "metadata": {},
   "outputs": [
    {
     "data": {
      "text/plain": [
       "movie          object\n",
       "year            int64\n",
       "rated          object\n",
       "runtime         int64\n",
       "genres         object\n",
       "director       object\n",
       "language       object\n",
       "imdb_score    float64\n",
       "imdb_votes      int64\n",
       "rt_score      float64\n",
       "metascore     float64\n",
       "other_win       int64\n",
       "other_nom       int64\n",
       "dtype: object"
      ]
     },
     "execution_count": 12,
     "metadata": {},
     "output_type": "execute_result"
    }
   ],
   "source": [
    "movies_df.dtypes"
   ]
  },
  {
   "cell_type": "markdown",
   "id": "photographic-content",
   "metadata": {},
   "source": [
    "### Prettify categorical values"
   ]
  },
  {
   "cell_type": "markdown",
   "id": "simplified-entity",
   "metadata": {},
   "source": [
    "#### Remove unpleasant characters"
   ]
  },
  {
   "cell_type": "code",
   "execution_count": 13,
   "id": "spectacular-weight",
   "metadata": {},
   "outputs": [],
   "source": [
    "movies_df['director'] = movies_df.director.map(lambda x: x.replace('(co-director)', '').strip())\n",
    "movies_df['language'] = movies_df.language.map(lambda x: x.split(',')[0].strip())"
   ]
  },
  {
   "cell_type": "markdown",
   "id": "critical-magnitude",
   "metadata": {},
   "source": [
    "#### Prepare genres"
   ]
  },
  {
   "cell_type": "code",
   "execution_count": 14,
   "id": "framed-thompson",
   "metadata": {},
   "outputs": [],
   "source": [
    "def prepare_genres(string: str) -> list[str]:\n",
    "    genres = string.split(', ')\n",
    "    return [*map(lambda x: x.lower().replace('-', ''), genres)]\n",
    "\n",
    "movies_df['genres'] = movies_df.genres.map(prepare_genres)"
   ]
  },
  {
   "cell_type": "code",
   "execution_count": 15,
   "id": "obvious-refrigerator",
   "metadata": {},
   "outputs": [],
   "source": [
    "genres = set()\n",
    "\n",
    "for genres_row in movies_df['genres']:\n",
    "    genres.update(genres_row)"
   ]
  },
  {
   "cell_type": "code",
   "execution_count": 16,
   "id": "respected-admission",
   "metadata": {},
   "outputs": [
    {
     "name": "stdout",
     "output_type": "stream",
     "text": [
      "There are 20 genres in total\n"
     ]
    },
    {
     "data": {
      "text/plain": [
       "{'action',\n",
       " 'adventure',\n",
       " 'animation',\n",
       " 'biography',\n",
       " 'comedy',\n",
       " 'crime',\n",
       " 'drama',\n",
       " 'family',\n",
       " 'fantasy',\n",
       " 'history',\n",
       " 'horror',\n",
       " 'music',\n",
       " 'musical',\n",
       " 'mystery',\n",
       " 'romance',\n",
       " 'scifi',\n",
       " 'sport',\n",
       " 'thriller',\n",
       " 'war',\n",
       " 'western'}"
      ]
     },
     "execution_count": 16,
     "metadata": {},
     "output_type": "execute_result"
    }
   ],
   "source": [
    "print(f'There are {len(genres)} genres in total')\n",
    "genres"
   ]
  },
  {
   "cell_type": "code",
   "execution_count": 17,
   "id": "parliamentary-injection",
   "metadata": {},
   "outputs": [],
   "source": [
    "genres_dicts = []\n",
    "\n",
    "for idx, row in movies_df.iterrows():\n",
    "    genre_row = {'movie': row.movie, 'year': row.year}    \n",
    "    for genre in genres:\n",
    "        genre_row[genre] = int(genre in row['genres'])\n",
    "    genres_dicts.append(genre_row)\n",
    "\n",
    "genres_df = pd.DataFrame.from_dict(genres_dicts)"
   ]
  },
  {
   "cell_type": "code",
   "execution_count": 18,
   "id": "humanitarian-water",
   "metadata": {},
   "outputs": [
    {
     "data": {
      "text/html": [
       "<div>\n",
       "<style scoped>\n",
       "    .dataframe tbody tr th:only-of-type {\n",
       "        vertical-align: middle;\n",
       "    }\n",
       "\n",
       "    .dataframe tbody tr th {\n",
       "        vertical-align: top;\n",
       "    }\n",
       "\n",
       "    .dataframe thead th {\n",
       "        text-align: right;\n",
       "    }\n",
       "</style>\n",
       "<table border=\"1\" class=\"dataframe\">\n",
       "  <thead>\n",
       "    <tr style=\"text-align: right;\">\n",
       "      <th></th>\n",
       "      <th>movie</th>\n",
       "      <th>year</th>\n",
       "      <th>scifi</th>\n",
       "      <th>fantasy</th>\n",
       "      <th>western</th>\n",
       "      <th>horror</th>\n",
       "      <th>adventure</th>\n",
       "      <th>family</th>\n",
       "      <th>crime</th>\n",
       "      <th>biography</th>\n",
       "      <th>...</th>\n",
       "      <th>musical</th>\n",
       "      <th>romance</th>\n",
       "      <th>music</th>\n",
       "      <th>action</th>\n",
       "      <th>drama</th>\n",
       "      <th>comedy</th>\n",
       "      <th>sport</th>\n",
       "      <th>history</th>\n",
       "      <th>animation</th>\n",
       "      <th>thriller</th>\n",
       "    </tr>\n",
       "  </thead>\n",
       "  <tbody>\n",
       "    <tr>\n",
       "      <th>0</th>\n",
       "      <td>Raging Bull</td>\n",
       "      <td>1980</td>\n",
       "      <td>0</td>\n",
       "      <td>0</td>\n",
       "      <td>0</td>\n",
       "      <td>0</td>\n",
       "      <td>0</td>\n",
       "      <td>0</td>\n",
       "      <td>0</td>\n",
       "      <td>1</td>\n",
       "      <td>...</td>\n",
       "      <td>0</td>\n",
       "      <td>0</td>\n",
       "      <td>0</td>\n",
       "      <td>0</td>\n",
       "      <td>1</td>\n",
       "      <td>0</td>\n",
       "      <td>1</td>\n",
       "      <td>0</td>\n",
       "      <td>0</td>\n",
       "      <td>0</td>\n",
       "    </tr>\n",
       "    <tr>\n",
       "      <th>1</th>\n",
       "      <td>The Great Santini</td>\n",
       "      <td>1980</td>\n",
       "      <td>0</td>\n",
       "      <td>0</td>\n",
       "      <td>0</td>\n",
       "      <td>0</td>\n",
       "      <td>0</td>\n",
       "      <td>0</td>\n",
       "      <td>0</td>\n",
       "      <td>0</td>\n",
       "      <td>...</td>\n",
       "      <td>0</td>\n",
       "      <td>0</td>\n",
       "      <td>0</td>\n",
       "      <td>0</td>\n",
       "      <td>1</td>\n",
       "      <td>0</td>\n",
       "      <td>0</td>\n",
       "      <td>0</td>\n",
       "      <td>0</td>\n",
       "      <td>0</td>\n",
       "    </tr>\n",
       "    <tr>\n",
       "      <th>2</th>\n",
       "      <td>The Elephant Man</td>\n",
       "      <td>1980</td>\n",
       "      <td>0</td>\n",
       "      <td>0</td>\n",
       "      <td>0</td>\n",
       "      <td>0</td>\n",
       "      <td>0</td>\n",
       "      <td>0</td>\n",
       "      <td>0</td>\n",
       "      <td>1</td>\n",
       "      <td>...</td>\n",
       "      <td>0</td>\n",
       "      <td>0</td>\n",
       "      <td>0</td>\n",
       "      <td>0</td>\n",
       "      <td>1</td>\n",
       "      <td>0</td>\n",
       "      <td>0</td>\n",
       "      <td>0</td>\n",
       "      <td>0</td>\n",
       "      <td>0</td>\n",
       "    </tr>\n",
       "    <tr>\n",
       "      <th>3</th>\n",
       "      <td>The Stunt Man</td>\n",
       "      <td>1980</td>\n",
       "      <td>0</td>\n",
       "      <td>0</td>\n",
       "      <td>0</td>\n",
       "      <td>0</td>\n",
       "      <td>0</td>\n",
       "      <td>0</td>\n",
       "      <td>0</td>\n",
       "      <td>0</td>\n",
       "      <td>...</td>\n",
       "      <td>0</td>\n",
       "      <td>1</td>\n",
       "      <td>0</td>\n",
       "      <td>1</td>\n",
       "      <td>1</td>\n",
       "      <td>1</td>\n",
       "      <td>0</td>\n",
       "      <td>0</td>\n",
       "      <td>0</td>\n",
       "      <td>1</td>\n",
       "    </tr>\n",
       "    <tr>\n",
       "      <th>4</th>\n",
       "      <td>On Golden Pond</td>\n",
       "      <td>1981</td>\n",
       "      <td>0</td>\n",
       "      <td>0</td>\n",
       "      <td>0</td>\n",
       "      <td>0</td>\n",
       "      <td>0</td>\n",
       "      <td>0</td>\n",
       "      <td>0</td>\n",
       "      <td>0</td>\n",
       "      <td>...</td>\n",
       "      <td>0</td>\n",
       "      <td>0</td>\n",
       "      <td>0</td>\n",
       "      <td>0</td>\n",
       "      <td>1</td>\n",
       "      <td>0</td>\n",
       "      <td>0</td>\n",
       "      <td>0</td>\n",
       "      <td>0</td>\n",
       "      <td>0</td>\n",
       "    </tr>\n",
       "  </tbody>\n",
       "</table>\n",
       "<p>5 rows × 22 columns</p>\n",
       "</div>"
      ],
      "text/plain": [
       "               movie  year  scifi  fantasy  western  horror  adventure  \\\n",
       "0        Raging Bull  1980      0        0        0       0          0   \n",
       "1  The Great Santini  1980      0        0        0       0          0   \n",
       "2   The Elephant Man  1980      0        0        0       0          0   \n",
       "3      The Stunt Man  1980      0        0        0       0          0   \n",
       "4     On Golden Pond  1981      0        0        0       0          0   \n",
       "\n",
       "   family  crime  biography  ...  musical  romance  music  action  drama  \\\n",
       "0       0      0          1  ...        0        0      0       0      1   \n",
       "1       0      0          0  ...        0        0      0       0      1   \n",
       "2       0      0          1  ...        0        0      0       0      1   \n",
       "3       0      0          0  ...        0        1      0       1      1   \n",
       "4       0      0          0  ...        0        0      0       0      1   \n",
       "\n",
       "   comedy  sport  history  animation  thriller  \n",
       "0       0      1        0          0         0  \n",
       "1       0      0        0          0         0  \n",
       "2       0      0        0          0         0  \n",
       "3       1      0        0          0         1  \n",
       "4       0      0        0          0         0  \n",
       "\n",
       "[5 rows x 22 columns]"
      ]
     },
     "execution_count": 18,
     "metadata": {},
     "output_type": "execute_result"
    }
   ],
   "source": [
    "genres_df.head()"
   ]
  },
  {
   "cell_type": "markdown",
   "id": "smoking-acceptance",
   "metadata": {},
   "source": [
    "#### Merge movies with genres dataframe"
   ]
  },
  {
   "cell_type": "code",
   "execution_count": 19,
   "id": "loving-caution",
   "metadata": {},
   "outputs": [
    {
     "data": {
      "text/html": [
       "<div>\n",
       "<style scoped>\n",
       "    .dataframe tbody tr th:only-of-type {\n",
       "        vertical-align: middle;\n",
       "    }\n",
       "\n",
       "    .dataframe tbody tr th {\n",
       "        vertical-align: top;\n",
       "    }\n",
       "\n",
       "    .dataframe thead th {\n",
       "        text-align: right;\n",
       "    }\n",
       "</style>\n",
       "<table border=\"1\" class=\"dataframe\">\n",
       "  <thead>\n",
       "    <tr style=\"text-align: right;\">\n",
       "      <th></th>\n",
       "      <th>movie</th>\n",
       "      <th>year</th>\n",
       "      <th>rated</th>\n",
       "      <th>runtime</th>\n",
       "      <th>director</th>\n",
       "      <th>language</th>\n",
       "      <th>imdb_score</th>\n",
       "      <th>imdb_votes</th>\n",
       "      <th>rt_score</th>\n",
       "      <th>metascore</th>\n",
       "      <th>...</th>\n",
       "      <th>musical</th>\n",
       "      <th>romance</th>\n",
       "      <th>music</th>\n",
       "      <th>action</th>\n",
       "      <th>drama</th>\n",
       "      <th>comedy</th>\n",
       "      <th>sport</th>\n",
       "      <th>history</th>\n",
       "      <th>animation</th>\n",
       "      <th>thriller</th>\n",
       "    </tr>\n",
       "  </thead>\n",
       "  <tbody>\n",
       "    <tr>\n",
       "      <th>0</th>\n",
       "      <td>Raging Bull</td>\n",
       "      <td>1980</td>\n",
       "      <td>R</td>\n",
       "      <td>129</td>\n",
       "      <td>Martin Scorsese</td>\n",
       "      <td>English</td>\n",
       "      <td>8.2</td>\n",
       "      <td>326193</td>\n",
       "      <td>9.3</td>\n",
       "      <td>8.9</td>\n",
       "      <td>...</td>\n",
       "      <td>0</td>\n",
       "      <td>0</td>\n",
       "      <td>0</td>\n",
       "      <td>0</td>\n",
       "      <td>1</td>\n",
       "      <td>0</td>\n",
       "      <td>1</td>\n",
       "      <td>0</td>\n",
       "      <td>0</td>\n",
       "      <td>0</td>\n",
       "    </tr>\n",
       "    <tr>\n",
       "      <th>1</th>\n",
       "      <td>The Great Santini</td>\n",
       "      <td>1980</td>\n",
       "      <td>PG</td>\n",
       "      <td>115</td>\n",
       "      <td>Lewis John Carlino</td>\n",
       "      <td>English</td>\n",
       "      <td>7.2</td>\n",
       "      <td>5756</td>\n",
       "      <td>9.5</td>\n",
       "      <td>6.4</td>\n",
       "      <td>...</td>\n",
       "      <td>0</td>\n",
       "      <td>0</td>\n",
       "      <td>0</td>\n",
       "      <td>0</td>\n",
       "      <td>1</td>\n",
       "      <td>0</td>\n",
       "      <td>0</td>\n",
       "      <td>0</td>\n",
       "      <td>0</td>\n",
       "      <td>0</td>\n",
       "    </tr>\n",
       "    <tr>\n",
       "      <th>2</th>\n",
       "      <td>The Elephant Man</td>\n",
       "      <td>1980</td>\n",
       "      <td>PG</td>\n",
       "      <td>124</td>\n",
       "      <td>David Lynch</td>\n",
       "      <td>English</td>\n",
       "      <td>8.1</td>\n",
       "      <td>224116</td>\n",
       "      <td>9.2</td>\n",
       "      <td>7.8</td>\n",
       "      <td>...</td>\n",
       "      <td>0</td>\n",
       "      <td>0</td>\n",
       "      <td>0</td>\n",
       "      <td>0</td>\n",
       "      <td>1</td>\n",
       "      <td>0</td>\n",
       "      <td>0</td>\n",
       "      <td>0</td>\n",
       "      <td>0</td>\n",
       "      <td>0</td>\n",
       "    </tr>\n",
       "    <tr>\n",
       "      <th>3</th>\n",
       "      <td>The Stunt Man</td>\n",
       "      <td>1980</td>\n",
       "      <td>R</td>\n",
       "      <td>131</td>\n",
       "      <td>Richard Rush</td>\n",
       "      <td>English</td>\n",
       "      <td>7.0</td>\n",
       "      <td>8848</td>\n",
       "      <td>9.0</td>\n",
       "      <td>7.7</td>\n",
       "      <td>...</td>\n",
       "      <td>0</td>\n",
       "      <td>1</td>\n",
       "      <td>0</td>\n",
       "      <td>1</td>\n",
       "      <td>1</td>\n",
       "      <td>1</td>\n",
       "      <td>0</td>\n",
       "      <td>0</td>\n",
       "      <td>0</td>\n",
       "      <td>1</td>\n",
       "    </tr>\n",
       "    <tr>\n",
       "      <th>4</th>\n",
       "      <td>On Golden Pond</td>\n",
       "      <td>1981</td>\n",
       "      <td>PG</td>\n",
       "      <td>109</td>\n",
       "      <td>Mark Rydell</td>\n",
       "      <td>English</td>\n",
       "      <td>7.6</td>\n",
       "      <td>28225</td>\n",
       "      <td>9.3</td>\n",
       "      <td>6.8</td>\n",
       "      <td>...</td>\n",
       "      <td>0</td>\n",
       "      <td>0</td>\n",
       "      <td>0</td>\n",
       "      <td>0</td>\n",
       "      <td>1</td>\n",
       "      <td>0</td>\n",
       "      <td>0</td>\n",
       "      <td>0</td>\n",
       "      <td>0</td>\n",
       "      <td>0</td>\n",
       "    </tr>\n",
       "  </tbody>\n",
       "</table>\n",
       "<p>5 rows × 32 columns</p>\n",
       "</div>"
      ],
      "text/plain": [
       "               movie  year rated  runtime            director language  \\\n",
       "0        Raging Bull  1980     R      129     Martin Scorsese  English   \n",
       "1  The Great Santini  1980    PG      115  Lewis John Carlino  English   \n",
       "2   The Elephant Man  1980    PG      124         David Lynch  English   \n",
       "3      The Stunt Man  1980     R      131        Richard Rush  English   \n",
       "4     On Golden Pond  1981    PG      109         Mark Rydell  English   \n",
       "\n",
       "   imdb_score  imdb_votes  rt_score  metascore  ...  musical  romance  music  \\\n",
       "0         8.2      326193       9.3        8.9  ...        0        0      0   \n",
       "1         7.2        5756       9.5        6.4  ...        0        0      0   \n",
       "2         8.1      224116       9.2        7.8  ...        0        0      0   \n",
       "3         7.0        8848       9.0        7.7  ...        0        1      0   \n",
       "4         7.6       28225       9.3        6.8  ...        0        0      0   \n",
       "\n",
       "   action  drama  comedy  sport  history  animation  thriller  \n",
       "0       0      1       0      1        0          0         0  \n",
       "1       0      1       0      0        0          0         0  \n",
       "2       0      1       0      0        0          0         0  \n",
       "3       1      1       1      0        0          0         1  \n",
       "4       0      1       0      0        0          0         0  \n",
       "\n",
       "[5 rows x 32 columns]"
      ]
     },
     "execution_count": 19,
     "metadata": {},
     "output_type": "execute_result"
    }
   ],
   "source": [
    "movies_df = movies_df.drop('genres', axis=1)\n",
    "movies_df = pd.merge(movies_df, genres_df, on=['movie', 'year'])\n",
    "movies_df.head()"
   ]
  },
  {
   "cell_type": "markdown",
   "id": "changed-camping",
   "metadata": {},
   "source": [
    "### Check resulting movies dataframe"
   ]
  },
  {
   "cell_type": "code",
   "execution_count": 20,
   "id": "impressed-report",
   "metadata": {},
   "outputs": [
    {
     "name": "stdout",
     "output_type": "stream",
     "text": [
      "<class 'pandas.core.frame.DataFrame'>\n",
      "Int64Index: 447 entries, 0 to 446\n",
      "Data columns (total 32 columns):\n",
      " #   Column      Non-Null Count  Dtype  \n",
      "---  ------      --------------  -----  \n",
      " 0   movie       447 non-null    object \n",
      " 1   year        447 non-null    int64  \n",
      " 2   rated       447 non-null    object \n",
      " 3   runtime     447 non-null    int64  \n",
      " 4   director    447 non-null    object \n",
      " 5   language    447 non-null    object \n",
      " 6   imdb_score  447 non-null    float64\n",
      " 7   imdb_votes  447 non-null    int64  \n",
      " 8   rt_score    447 non-null    float64\n",
      " 9   metascore   447 non-null    float64\n",
      " 10  other_win   447 non-null    int64  \n",
      " 11  other_nom   447 non-null    int64  \n",
      " 12  scifi       447 non-null    int64  \n",
      " 13  fantasy     447 non-null    int64  \n",
      " 14  western     447 non-null    int64  \n",
      " 15  horror      447 non-null    int64  \n",
      " 16  adventure   447 non-null    int64  \n",
      " 17  family      447 non-null    int64  \n",
      " 18  crime       447 non-null    int64  \n",
      " 19  biography   447 non-null    int64  \n",
      " 20  war         447 non-null    int64  \n",
      " 21  mystery     447 non-null    int64  \n",
      " 22  musical     447 non-null    int64  \n",
      " 23  romance     447 non-null    int64  \n",
      " 24  music       447 non-null    int64  \n",
      " 25  action      447 non-null    int64  \n",
      " 26  drama       447 non-null    int64  \n",
      " 27  comedy      447 non-null    int64  \n",
      " 28  sport       447 non-null    int64  \n",
      " 29  history     447 non-null    int64  \n",
      " 30  animation   447 non-null    int64  \n",
      " 31  thriller    447 non-null    int64  \n",
      "dtypes: float64(3), int64(25), object(4)\n",
      "memory usage: 115.2+ KB\n"
     ]
    }
   ],
   "source": [
    "movies_df.info()"
   ]
  },
  {
   "cell_type": "markdown",
   "id": "loving-three",
   "metadata": {},
   "source": [
    "## Prepare awards dataset"
   ]
  },
  {
   "cell_type": "markdown",
   "id": "bibliographic-variation",
   "metadata": {},
   "source": [
    "### Show general information"
   ]
  },
  {
   "cell_type": "code",
   "execution_count": 21,
   "id": "detected-berkeley",
   "metadata": {},
   "outputs": [
    {
     "name": "stdout",
     "output_type": "stream",
     "text": [
      "<class 'pandas.core.frame.DataFrame'>\n",
      "RangeIndex: 3051 entries, 0 to 3050\n",
      "Data columns (total 7 columns):\n",
      " #   Column    Non-Null Count  Dtype \n",
      "---  ------    --------------  ----- \n",
      " 0   year      3051 non-null   int64 \n",
      " 1   winner    3051 non-null   bool  \n",
      " 2   nominee   3051 non-null   object\n",
      " 3   movie     3051 non-null   object\n",
      " 4   wiki_url  3044 non-null   object\n",
      " 5   award     3051 non-null   object\n",
      " 6   category  3051 non-null   object\n",
      "dtypes: bool(1), int64(1), object(5)\n",
      "memory usage: 146.1+ KB\n"
     ]
    }
   ],
   "source": [
    "awards_df.info()"
   ]
  },
  {
   "cell_type": "markdown",
   "id": "talented-harrison",
   "metadata": {},
   "source": [
    "### Delete insignificant columns"
   ]
  },
  {
   "cell_type": "code",
   "execution_count": 22,
   "id": "expected-brief",
   "metadata": {},
   "outputs": [],
   "source": [
    "awards_df = awards_df.drop('wiki_url', axis=1)"
   ]
  },
  {
   "cell_type": "markdown",
   "id": "removable-kennedy",
   "metadata": {},
   "source": [
    "### Clear null values"
   ]
  },
  {
   "cell_type": "code",
   "execution_count": 23,
   "id": "assisted-browse",
   "metadata": {},
   "outputs": [
    {
     "data": {
      "text/plain": [
       "year        0\n",
       "winner      0\n",
       "nominee     0\n",
       "movie       0\n",
       "award       0\n",
       "category    0\n",
       "dtype: int64"
      ]
     },
     "execution_count": 23,
     "metadata": {},
     "output_type": "execute_result"
    }
   ],
   "source": [
    "awards_df.isnull().sum() # it's already alright"
   ]
  },
  {
   "cell_type": "markdown",
   "id": "shared-float",
   "metadata": {},
   "source": [
    "### Prettify string values and clear data"
   ]
  },
  {
   "cell_type": "markdown",
   "id": "running-capture",
   "metadata": {},
   "source": [
    "#### Clear nominees names"
   ]
  },
  {
   "cell_type": "code",
   "execution_count": 24,
   "id": "together-divide",
   "metadata": {},
   "outputs": [],
   "source": [
    "awards_df['nominee'] = awards_df.nominee.map(lambda x: x.replace('(posthumous)', '').strip())"
   ]
  },
  {
   "cell_type": "markdown",
   "id": "maritime-particular",
   "metadata": {},
   "source": [
    "#### Delete records for skipped awards (BAFTA director 1985)"
   ]
  },
  {
   "cell_type": "code",
   "execution_count": 25,
   "id": "cathedral-memorabilia",
   "metadata": {},
   "outputs": [],
   "source": [
    "awards_df = awards_df[~awards_df.movie.str.startswith('no record of nominations nor winner')]"
   ]
  },
  {
   "cell_type": "markdown",
   "id": "blind-garlic",
   "metadata": {},
   "source": [
    "### Combine all awards within row"
   ]
  },
  {
   "cell_type": "code",
   "execution_count": 26,
   "id": "announced-creation",
   "metadata": {},
   "outputs": [
    {
     "data": {
      "text/html": [
       "<div>\n",
       "<style scoped>\n",
       "    .dataframe tbody tr th:only-of-type {\n",
       "        vertical-align: middle;\n",
       "    }\n",
       "\n",
       "    .dataframe tbody tr th {\n",
       "        vertical-align: top;\n",
       "    }\n",
       "\n",
       "    .dataframe thead th {\n",
       "        text-align: right;\n",
       "    }\n",
       "</style>\n",
       "<table border=\"1\" class=\"dataframe\">\n",
       "  <thead>\n",
       "    <tr style=\"text-align: right;\">\n",
       "      <th>award</th>\n",
       "      <th>movie</th>\n",
       "      <th>year</th>\n",
       "      <th>category</th>\n",
       "      <th>nominee</th>\n",
       "      <th>bafta</th>\n",
       "      <th>globe</th>\n",
       "      <th>oscar</th>\n",
       "    </tr>\n",
       "  </thead>\n",
       "  <tbody>\n",
       "    <tr>\n",
       "      <th>0</th>\n",
       "      <td>'night, Mother</td>\n",
       "      <td>1986</td>\n",
       "      <td>actress</td>\n",
       "      <td>Anne Bancroft</td>\n",
       "      <td>0.0</td>\n",
       "      <td>0.0</td>\n",
       "      <td>0.0</td>\n",
       "    </tr>\n",
       "    <tr>\n",
       "      <th>1</th>\n",
       "      <td>(500) Days of Summer</td>\n",
       "      <td>2009</td>\n",
       "      <td>actor</td>\n",
       "      <td>Joseph Gordon-Levitt</td>\n",
       "      <td>0.0</td>\n",
       "      <td>0.0</td>\n",
       "      <td>0.0</td>\n",
       "    </tr>\n",
       "    <tr>\n",
       "      <th>2</th>\n",
       "      <td>(500) Days of Summer</td>\n",
       "      <td>2009</td>\n",
       "      <td>picture</td>\n",
       "      <td>(500) Days of Summer</td>\n",
       "      <td>0.0</td>\n",
       "      <td>0.0</td>\n",
       "      <td>0.0</td>\n",
       "    </tr>\n",
       "    <tr>\n",
       "      <th>3</th>\n",
       "      <td>101 Dalmatians</td>\n",
       "      <td>1996</td>\n",
       "      <td>actress</td>\n",
       "      <td>Glenn Close</td>\n",
       "      <td>0.0</td>\n",
       "      <td>0.0</td>\n",
       "      <td>0.0</td>\n",
       "    </tr>\n",
       "    <tr>\n",
       "      <th>4</th>\n",
       "      <td>12 Years a Slave</td>\n",
       "      <td>2013</td>\n",
       "      <td>actor</td>\n",
       "      <td>Chiwetel Ejiofor</td>\n",
       "      <td>1.0</td>\n",
       "      <td>0.0</td>\n",
       "      <td>0.0</td>\n",
       "    </tr>\n",
       "  </tbody>\n",
       "</table>\n",
       "</div>"
      ],
      "text/plain": [
       "award                 movie  year category               nominee  bafta  \\\n",
       "0            'night, Mother  1986  actress         Anne Bancroft    0.0   \n",
       "1      (500) Days of Summer  2009    actor  Joseph Gordon-Levitt    0.0   \n",
       "2      (500) Days of Summer  2009  picture  (500) Days of Summer    0.0   \n",
       "3            101 Dalmatians  1996  actress           Glenn Close    0.0   \n",
       "4          12 Years a Slave  2013    actor      Chiwetel Ejiofor    1.0   \n",
       "\n",
       "award  globe  oscar  \n",
       "0        0.0    0.0  \n",
       "1        0.0    0.0  \n",
       "2        0.0    0.0  \n",
       "3        0.0    0.0  \n",
       "4        0.0    0.0  "
      ]
     },
     "execution_count": 26,
     "metadata": {},
     "output_type": "execute_result"
    }
   ],
   "source": [
    "index = ['movie', 'year', 'category', 'nominee']\n",
    "\n",
    "winners_df = pd.pivot_table(\n",
    "    data=awards_df,\n",
    "    values='winner', columns=['award'], \n",
    "    index=index, aggfunc=np.sum\n",
    ").fillna(0).reset_index()\n",
    "\n",
    "winners_df.head()"
   ]
  },
  {
   "cell_type": "markdown",
   "id": "consistent-processor",
   "metadata": {},
   "source": [
    "### Filter only Oscar nominees"
   ]
  },
  {
   "cell_type": "code",
   "execution_count": 27,
   "id": "owned-wrestling",
   "metadata": {},
   "outputs": [
    {
     "data": {
      "text/html": [
       "<div>\n",
       "<style scoped>\n",
       "    .dataframe tbody tr th:only-of-type {\n",
       "        vertical-align: middle;\n",
       "    }\n",
       "\n",
       "    .dataframe tbody tr th {\n",
       "        vertical-align: top;\n",
       "    }\n",
       "\n",
       "    .dataframe thead th {\n",
       "        text-align: right;\n",
       "    }\n",
       "</style>\n",
       "<table border=\"1\" class=\"dataframe\">\n",
       "  <thead>\n",
       "    <tr style=\"text-align: right;\">\n",
       "      <th></th>\n",
       "      <th>movie</th>\n",
       "      <th>year</th>\n",
       "      <th>category</th>\n",
       "      <th>nominee</th>\n",
       "      <th>bafta</th>\n",
       "      <th>globe</th>\n",
       "      <th>oscar</th>\n",
       "    </tr>\n",
       "  </thead>\n",
       "  <tbody>\n",
       "    <tr>\n",
       "      <th>0</th>\n",
       "      <td>Raging Bull</td>\n",
       "      <td>1980</td>\n",
       "      <td>actor</td>\n",
       "      <td>Robert De Niro</td>\n",
       "      <td>0.0</td>\n",
       "      <td>1.0</td>\n",
       "      <td>1.0</td>\n",
       "    </tr>\n",
       "    <tr>\n",
       "      <th>1</th>\n",
       "      <td>The Great Santini</td>\n",
       "      <td>1980</td>\n",
       "      <td>actor</td>\n",
       "      <td>Robert Duvall</td>\n",
       "      <td>0.0</td>\n",
       "      <td>0.0</td>\n",
       "      <td>0.0</td>\n",
       "    </tr>\n",
       "    <tr>\n",
       "      <th>2</th>\n",
       "      <td>The Elephant Man</td>\n",
       "      <td>1980</td>\n",
       "      <td>actor</td>\n",
       "      <td>John Hurt</td>\n",
       "      <td>1.0</td>\n",
       "      <td>0.0</td>\n",
       "      <td>0.0</td>\n",
       "    </tr>\n",
       "    <tr>\n",
       "      <th>3</th>\n",
       "      <td>Tribute</td>\n",
       "      <td>1980</td>\n",
       "      <td>actor</td>\n",
       "      <td>Jack Lemmon</td>\n",
       "      <td>0.0</td>\n",
       "      <td>0.0</td>\n",
       "      <td>0.0</td>\n",
       "    </tr>\n",
       "    <tr>\n",
       "      <th>4</th>\n",
       "      <td>The Stunt Man</td>\n",
       "      <td>1980</td>\n",
       "      <td>actor</td>\n",
       "      <td>Peter O'Toole</td>\n",
       "      <td>0.0</td>\n",
       "      <td>0.0</td>\n",
       "      <td>0.0</td>\n",
       "    </tr>\n",
       "  </tbody>\n",
       "</table>\n",
       "</div>"
      ],
      "text/plain": [
       "               movie  year category         nominee  bafta  globe  oscar\n",
       "0        Raging Bull  1980    actor  Robert De Niro    0.0    1.0    1.0\n",
       "1  The Great Santini  1980    actor   Robert Duvall    0.0    0.0    0.0\n",
       "2   The Elephant Man  1980    actor       John Hurt    1.0    0.0    0.0\n",
       "3            Tribute  1980    actor     Jack Lemmon    0.0    0.0    0.0\n",
       "4      The Stunt Man  1980    actor   Peter O'Toole    0.0    0.0    0.0"
      ]
     },
     "execution_count": 27,
     "metadata": {},
     "output_type": "execute_result"
    }
   ],
   "source": [
    "columns = ['movie', 'year', 'category', 'nominee']\n",
    "oscars_df = awards_df[awards_df['award'] == 'oscar'][columns]\n",
    "awards_df = pd.merge(oscars_df, winners_df, on=columns)\n",
    "awards_df.head()"
   ]
  },
  {
   "cell_type": "markdown",
   "id": "further-bermuda",
   "metadata": {},
   "source": [
    "### Set dtypes"
   ]
  },
  {
   "cell_type": "code",
   "execution_count": 28,
   "id": "frank-filling",
   "metadata": {},
   "outputs": [],
   "source": [
    "awards_df = awards_df.astype({'bafta': int, 'globe': int, 'oscar': int})"
   ]
  },
  {
   "cell_type": "markdown",
   "id": "unavailable-response",
   "metadata": {},
   "source": [
    "### Check result"
   ]
  },
  {
   "cell_type": "code",
   "execution_count": 29,
   "id": "documentary-powell",
   "metadata": {},
   "outputs": [
    {
     "name": "stdout",
     "output_type": "stream",
     "text": [
      "<class 'pandas.core.frame.DataFrame'>\n",
      "Int64Index: 856 entries, 0 to 855\n",
      "Data columns (total 7 columns):\n",
      " #   Column    Non-Null Count  Dtype \n",
      "---  ------    --------------  ----- \n",
      " 0   movie     856 non-null    object\n",
      " 1   year      856 non-null    int64 \n",
      " 2   category  856 non-null    object\n",
      " 3   nominee   856 non-null    object\n",
      " 4   bafta     856 non-null    int64 \n",
      " 5   globe     856 non-null    int64 \n",
      " 6   oscar     856 non-null    int64 \n",
      "dtypes: int64(4), object(3)\n",
      "memory usage: 53.5+ KB\n"
     ]
    }
   ],
   "source": [
    "awards_df.info()"
   ]
  },
  {
   "cell_type": "markdown",
   "id": "blond-basics",
   "metadata": {},
   "source": [
    "## Combine awards and movies datasets"
   ]
  },
  {
   "cell_type": "markdown",
   "id": "interim-prior",
   "metadata": {},
   "source": [
    "### Merge it"
   ]
  },
  {
   "cell_type": "code",
   "execution_count": 30,
   "id": "pending-acceptance",
   "metadata": {},
   "outputs": [
    {
     "data": {
      "text/html": [
       "<div>\n",
       "<style scoped>\n",
       "    .dataframe tbody tr th:only-of-type {\n",
       "        vertical-align: middle;\n",
       "    }\n",
       "\n",
       "    .dataframe tbody tr th {\n",
       "        vertical-align: top;\n",
       "    }\n",
       "\n",
       "    .dataframe thead th {\n",
       "        text-align: right;\n",
       "    }\n",
       "</style>\n",
       "<table border=\"1\" class=\"dataframe\">\n",
       "  <thead>\n",
       "    <tr style=\"text-align: right;\">\n",
       "      <th></th>\n",
       "      <th>movie</th>\n",
       "      <th>year</th>\n",
       "      <th>category</th>\n",
       "      <th>nominee</th>\n",
       "      <th>bafta</th>\n",
       "      <th>globe</th>\n",
       "      <th>oscar</th>\n",
       "      <th>rated</th>\n",
       "      <th>runtime</th>\n",
       "      <th>director</th>\n",
       "      <th>...</th>\n",
       "      <th>musical</th>\n",
       "      <th>romance</th>\n",
       "      <th>music</th>\n",
       "      <th>action</th>\n",
       "      <th>drama</th>\n",
       "      <th>comedy</th>\n",
       "      <th>sport</th>\n",
       "      <th>history</th>\n",
       "      <th>animation</th>\n",
       "      <th>thriller</th>\n",
       "    </tr>\n",
       "  </thead>\n",
       "  <tbody>\n",
       "    <tr>\n",
       "      <th>0</th>\n",
       "      <td>Raging Bull</td>\n",
       "      <td>1980</td>\n",
       "      <td>actor</td>\n",
       "      <td>Robert De Niro</td>\n",
       "      <td>0</td>\n",
       "      <td>1</td>\n",
       "      <td>1</td>\n",
       "      <td>R</td>\n",
       "      <td>129</td>\n",
       "      <td>Martin Scorsese</td>\n",
       "      <td>...</td>\n",
       "      <td>0</td>\n",
       "      <td>0</td>\n",
       "      <td>0</td>\n",
       "      <td>0</td>\n",
       "      <td>1</td>\n",
       "      <td>0</td>\n",
       "      <td>1</td>\n",
       "      <td>0</td>\n",
       "      <td>0</td>\n",
       "      <td>0</td>\n",
       "    </tr>\n",
       "    <tr>\n",
       "      <th>1</th>\n",
       "      <td>Raging Bull</td>\n",
       "      <td>1980</td>\n",
       "      <td>director</td>\n",
       "      <td>Martin Scorsese</td>\n",
       "      <td>0</td>\n",
       "      <td>0</td>\n",
       "      <td>0</td>\n",
       "      <td>R</td>\n",
       "      <td>129</td>\n",
       "      <td>Martin Scorsese</td>\n",
       "      <td>...</td>\n",
       "      <td>0</td>\n",
       "      <td>0</td>\n",
       "      <td>0</td>\n",
       "      <td>0</td>\n",
       "      <td>1</td>\n",
       "      <td>0</td>\n",
       "      <td>1</td>\n",
       "      <td>0</td>\n",
       "      <td>0</td>\n",
       "      <td>0</td>\n",
       "    </tr>\n",
       "    <tr>\n",
       "      <th>2</th>\n",
       "      <td>Raging Bull</td>\n",
       "      <td>1980</td>\n",
       "      <td>picture</td>\n",
       "      <td>Raging Bull</td>\n",
       "      <td>0</td>\n",
       "      <td>0</td>\n",
       "      <td>0</td>\n",
       "      <td>R</td>\n",
       "      <td>129</td>\n",
       "      <td>Martin Scorsese</td>\n",
       "      <td>...</td>\n",
       "      <td>0</td>\n",
       "      <td>0</td>\n",
       "      <td>0</td>\n",
       "      <td>0</td>\n",
       "      <td>1</td>\n",
       "      <td>0</td>\n",
       "      <td>1</td>\n",
       "      <td>0</td>\n",
       "      <td>0</td>\n",
       "      <td>0</td>\n",
       "    </tr>\n",
       "    <tr>\n",
       "      <th>3</th>\n",
       "      <td>The Great Santini</td>\n",
       "      <td>1980</td>\n",
       "      <td>actor</td>\n",
       "      <td>Robert Duvall</td>\n",
       "      <td>0</td>\n",
       "      <td>0</td>\n",
       "      <td>0</td>\n",
       "      <td>PG</td>\n",
       "      <td>115</td>\n",
       "      <td>Lewis John Carlino</td>\n",
       "      <td>...</td>\n",
       "      <td>0</td>\n",
       "      <td>0</td>\n",
       "      <td>0</td>\n",
       "      <td>0</td>\n",
       "      <td>1</td>\n",
       "      <td>0</td>\n",
       "      <td>0</td>\n",
       "      <td>0</td>\n",
       "      <td>0</td>\n",
       "      <td>0</td>\n",
       "    </tr>\n",
       "    <tr>\n",
       "      <th>4</th>\n",
       "      <td>The Elephant Man</td>\n",
       "      <td>1980</td>\n",
       "      <td>actor</td>\n",
       "      <td>John Hurt</td>\n",
       "      <td>1</td>\n",
       "      <td>0</td>\n",
       "      <td>0</td>\n",
       "      <td>PG</td>\n",
       "      <td>124</td>\n",
       "      <td>David Lynch</td>\n",
       "      <td>...</td>\n",
       "      <td>0</td>\n",
       "      <td>0</td>\n",
       "      <td>0</td>\n",
       "      <td>0</td>\n",
       "      <td>1</td>\n",
       "      <td>0</td>\n",
       "      <td>0</td>\n",
       "      <td>0</td>\n",
       "      <td>0</td>\n",
       "      <td>0</td>\n",
       "    </tr>\n",
       "  </tbody>\n",
       "</table>\n",
       "<p>5 rows × 37 columns</p>\n",
       "</div>"
      ],
      "text/plain": [
       "               movie  year  category          nominee  bafta  globe  oscar  \\\n",
       "0        Raging Bull  1980     actor   Robert De Niro      0      1      1   \n",
       "1        Raging Bull  1980  director  Martin Scorsese      0      0      0   \n",
       "2        Raging Bull  1980   picture      Raging Bull      0      0      0   \n",
       "3  The Great Santini  1980     actor    Robert Duvall      0      0      0   \n",
       "4   The Elephant Man  1980     actor        John Hurt      1      0      0   \n",
       "\n",
       "  rated  runtime            director  ... musical  romance  music  action  \\\n",
       "0     R      129     Martin Scorsese  ...       0        0      0       0   \n",
       "1     R      129     Martin Scorsese  ...       0        0      0       0   \n",
       "2     R      129     Martin Scorsese  ...       0        0      0       0   \n",
       "3    PG      115  Lewis John Carlino  ...       0        0      0       0   \n",
       "4    PG      124         David Lynch  ...       0        0      0       0   \n",
       "\n",
       "   drama  comedy  sport  history  animation  thriller  \n",
       "0      1       0      1        0          0         0  \n",
       "1      1       0      1        0          0         0  \n",
       "2      1       0      1        0          0         0  \n",
       "3      1       0      0        0          0         0  \n",
       "4      1       0      0        0          0         0  \n",
       "\n",
       "[5 rows x 37 columns]"
      ]
     },
     "execution_count": 30,
     "metadata": {},
     "output_type": "execute_result"
    }
   ],
   "source": [
    "prepared_df = pd.merge(awards_df, movies_df, on=['movie', 'year'])\n",
    "prepared_df.head()"
   ]
  },
  {
   "cell_type": "code",
   "execution_count": 31,
   "id": "utility-shoulder",
   "metadata": {},
   "outputs": [
    {
     "data": {
      "text/plain": [
       "(792, 37)"
      ]
     },
     "execution_count": 31,
     "metadata": {},
     "output_type": "execute_result"
    }
   ],
   "source": [
    "prepared_df.shape"
   ]
  },
  {
   "cell_type": "markdown",
   "id": "prime-criticism",
   "metadata": {},
   "source": [
    "### Check for empty values"
   ]
  },
  {
   "cell_type": "code",
   "execution_count": 32,
   "id": "postal-conditioning",
   "metadata": {},
   "outputs": [
    {
     "data": {
      "text/plain": [
       "movie         0\n",
       "year          0\n",
       "category      0\n",
       "nominee       0\n",
       "bafta         0\n",
       "globe         0\n",
       "oscar         0\n",
       "rated         0\n",
       "runtime       0\n",
       "director      0\n",
       "language      0\n",
       "imdb_score    0\n",
       "imdb_votes    0\n",
       "rt_score      0\n",
       "metascore     0\n",
       "other_win     0\n",
       "other_nom     0\n",
       "scifi         0\n",
       "fantasy       0\n",
       "western       0\n",
       "horror        0\n",
       "adventure     0\n",
       "family        0\n",
       "crime         0\n",
       "biography     0\n",
       "war           0\n",
       "mystery       0\n",
       "musical       0\n",
       "romance       0\n",
       "music         0\n",
       "action        0\n",
       "drama         0\n",
       "comedy        0\n",
       "sport         0\n",
       "history       0\n",
       "animation     0\n",
       "thriller      0\n",
       "dtype: int64"
      ]
     },
     "execution_count": 32,
     "metadata": {},
     "output_type": "execute_result"
    }
   ],
   "source": [
    "prepared_df.isnull().sum() # nice"
   ]
  },
  {
   "cell_type": "markdown",
   "id": "removable-foster",
   "metadata": {},
   "source": [
    "### Save it"
   ]
  },
  {
   "cell_type": "code",
   "execution_count": 33,
   "id": "moderate-arrangement",
   "metadata": {},
   "outputs": [],
   "source": [
    "prepared_df.to_csv('../data/prepared.csv', index=False)"
   ]
  },
  {
   "cell_type": "code",
   "execution_count": null,
   "id": "introductory-sodium",
   "metadata": {},
   "outputs": [],
   "source": []
  }
 ],
 "metadata": {
  "kernelspec": {
   "display_name": "Python 3",
   "language": "python",
   "name": "python3"
  },
  "language_info": {
   "codemirror_mode": {
    "name": "ipython",
    "version": 3
   },
   "file_extension": ".py",
   "mimetype": "text/x-python",
   "name": "python",
   "nbconvert_exporter": "python",
   "pygments_lexer": "ipython3",
   "version": "3.9.4"
  }
 },
 "nbformat": 4,
 "nbformat_minor": 5
}
