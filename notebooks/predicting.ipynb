{
 "cells": [
  {
   "cell_type": "markdown",
   "id": "professional-helen",
   "metadata": {},
   "source": [
    "# Predicting"
   ]
  },
  {
   "cell_type": "markdown",
   "id": "lovely-dimension",
   "metadata": {},
   "source": [
    "## Import libraries"
   ]
  },
  {
   "cell_type": "code",
   "execution_count": 1,
   "id": "noble-surgeon",
   "metadata": {},
   "outputs": [],
   "source": [
    "import numpy as np\n",
    "import pandas as pd\n",
    "\n",
    "import matplotlib.pyplot as plt\n",
    "import seaborn as sns\n",
    "\n",
    "from sklearn.preprocessing import LabelEncoder\n",
    "from sklearn.linear_model import LogisticRegression\n",
    "from sklearn.ensemble import RandomForestClassifier\n",
    "from sklearn.tree import DecisionTreeClassifier\n",
    "from sklearn.metrics import accuracy_score\n",
    "\n",
    "from xgboost import XGBClassifier\n",
    "from lightgbm import LGBMClassifier\n",
    "\n",
    "from typing import Callable"
   ]
  },
  {
   "cell_type": "markdown",
   "id": "dynamic-infrared",
   "metadata": {},
   "source": [
    "## Load dataset"
   ]
  },
  {
   "cell_type": "code",
   "execution_count": 2,
   "id": "systematic-conference",
   "metadata": {},
   "outputs": [
    {
     "data": {
      "text/html": [
       "<div>\n",
       "<style scoped>\n",
       "    .dataframe tbody tr th:only-of-type {\n",
       "        vertical-align: middle;\n",
       "    }\n",
       "\n",
       "    .dataframe tbody tr th {\n",
       "        vertical-align: top;\n",
       "    }\n",
       "\n",
       "    .dataframe thead th {\n",
       "        text-align: right;\n",
       "    }\n",
       "</style>\n",
       "<table border=\"1\" class=\"dataframe\">\n",
       "  <thead>\n",
       "    <tr style=\"text-align: right;\">\n",
       "      <th></th>\n",
       "      <th>movie</th>\n",
       "      <th>year</th>\n",
       "      <th>category</th>\n",
       "      <th>nominee</th>\n",
       "      <th>bafta</th>\n",
       "      <th>globe</th>\n",
       "      <th>oscar</th>\n",
       "      <th>rated</th>\n",
       "      <th>runtime</th>\n",
       "      <th>director</th>\n",
       "      <th>...</th>\n",
       "      <th>musical</th>\n",
       "      <th>romance</th>\n",
       "      <th>music</th>\n",
       "      <th>action</th>\n",
       "      <th>drama</th>\n",
       "      <th>comedy</th>\n",
       "      <th>sport</th>\n",
       "      <th>history</th>\n",
       "      <th>animation</th>\n",
       "      <th>thriller</th>\n",
       "    </tr>\n",
       "  </thead>\n",
       "  <tbody>\n",
       "    <tr>\n",
       "      <th>0</th>\n",
       "      <td>Raging Bull</td>\n",
       "      <td>1980</td>\n",
       "      <td>actor</td>\n",
       "      <td>Robert De Niro</td>\n",
       "      <td>0</td>\n",
       "      <td>1</td>\n",
       "      <td>1</td>\n",
       "      <td>R</td>\n",
       "      <td>129</td>\n",
       "      <td>Martin Scorsese</td>\n",
       "      <td>...</td>\n",
       "      <td>0</td>\n",
       "      <td>0</td>\n",
       "      <td>0</td>\n",
       "      <td>0</td>\n",
       "      <td>1</td>\n",
       "      <td>0</td>\n",
       "      <td>1</td>\n",
       "      <td>0</td>\n",
       "      <td>0</td>\n",
       "      <td>0</td>\n",
       "    </tr>\n",
       "    <tr>\n",
       "      <th>1</th>\n",
       "      <td>Raging Bull</td>\n",
       "      <td>1980</td>\n",
       "      <td>director</td>\n",
       "      <td>Martin Scorsese</td>\n",
       "      <td>0</td>\n",
       "      <td>0</td>\n",
       "      <td>0</td>\n",
       "      <td>R</td>\n",
       "      <td>129</td>\n",
       "      <td>Martin Scorsese</td>\n",
       "      <td>...</td>\n",
       "      <td>0</td>\n",
       "      <td>0</td>\n",
       "      <td>0</td>\n",
       "      <td>0</td>\n",
       "      <td>1</td>\n",
       "      <td>0</td>\n",
       "      <td>1</td>\n",
       "      <td>0</td>\n",
       "      <td>0</td>\n",
       "      <td>0</td>\n",
       "    </tr>\n",
       "    <tr>\n",
       "      <th>2</th>\n",
       "      <td>Raging Bull</td>\n",
       "      <td>1980</td>\n",
       "      <td>picture</td>\n",
       "      <td>Raging Bull</td>\n",
       "      <td>0</td>\n",
       "      <td>0</td>\n",
       "      <td>0</td>\n",
       "      <td>R</td>\n",
       "      <td>129</td>\n",
       "      <td>Martin Scorsese</td>\n",
       "      <td>...</td>\n",
       "      <td>0</td>\n",
       "      <td>0</td>\n",
       "      <td>0</td>\n",
       "      <td>0</td>\n",
       "      <td>1</td>\n",
       "      <td>0</td>\n",
       "      <td>1</td>\n",
       "      <td>0</td>\n",
       "      <td>0</td>\n",
       "      <td>0</td>\n",
       "    </tr>\n",
       "    <tr>\n",
       "      <th>3</th>\n",
       "      <td>The Great Santini</td>\n",
       "      <td>1980</td>\n",
       "      <td>actor</td>\n",
       "      <td>Robert Duvall</td>\n",
       "      <td>0</td>\n",
       "      <td>0</td>\n",
       "      <td>0</td>\n",
       "      <td>PG</td>\n",
       "      <td>115</td>\n",
       "      <td>Lewis John Carlino</td>\n",
       "      <td>...</td>\n",
       "      <td>0</td>\n",
       "      <td>0</td>\n",
       "      <td>0</td>\n",
       "      <td>0</td>\n",
       "      <td>1</td>\n",
       "      <td>0</td>\n",
       "      <td>0</td>\n",
       "      <td>0</td>\n",
       "      <td>0</td>\n",
       "      <td>0</td>\n",
       "    </tr>\n",
       "    <tr>\n",
       "      <th>4</th>\n",
       "      <td>The Elephant Man</td>\n",
       "      <td>1980</td>\n",
       "      <td>actor</td>\n",
       "      <td>John Hurt</td>\n",
       "      <td>1</td>\n",
       "      <td>0</td>\n",
       "      <td>0</td>\n",
       "      <td>PG</td>\n",
       "      <td>124</td>\n",
       "      <td>David Lynch</td>\n",
       "      <td>...</td>\n",
       "      <td>0</td>\n",
       "      <td>0</td>\n",
       "      <td>0</td>\n",
       "      <td>0</td>\n",
       "      <td>1</td>\n",
       "      <td>0</td>\n",
       "      <td>0</td>\n",
       "      <td>0</td>\n",
       "      <td>0</td>\n",
       "      <td>0</td>\n",
       "    </tr>\n",
       "  </tbody>\n",
       "</table>\n",
       "<p>5 rows × 37 columns</p>\n",
       "</div>"
      ],
      "text/plain": [
       "               movie  year  category          nominee  bafta  globe  oscar  \\\n",
       "0        Raging Bull  1980     actor   Robert De Niro      0      1      1   \n",
       "1        Raging Bull  1980  director  Martin Scorsese      0      0      0   \n",
       "2        Raging Bull  1980   picture      Raging Bull      0      0      0   \n",
       "3  The Great Santini  1980     actor    Robert Duvall      0      0      0   \n",
       "4   The Elephant Man  1980     actor        John Hurt      1      0      0   \n",
       "\n",
       "  rated  runtime            director  ... musical  romance  music  action  \\\n",
       "0     R      129     Martin Scorsese  ...       0        0      0       0   \n",
       "1     R      129     Martin Scorsese  ...       0        0      0       0   \n",
       "2     R      129     Martin Scorsese  ...       0        0      0       0   \n",
       "3    PG      115  Lewis John Carlino  ...       0        0      0       0   \n",
       "4    PG      124         David Lynch  ...       0        0      0       0   \n",
       "\n",
       "   drama  comedy  sport  history  animation  thriller  \n",
       "0      1       0      1        0          0         0  \n",
       "1      1       0      1        0          0         0  \n",
       "2      1       0      1        0          0         0  \n",
       "3      1       0      0        0          0         0  \n",
       "4      1       0      0        0          0         0  \n",
       "\n",
       "[5 rows x 37 columns]"
      ]
     },
     "execution_count": 2,
     "metadata": {},
     "output_type": "execute_result"
    }
   ],
   "source": [
    "df = pd.read_csv('../data/prepared.csv')\n",
    "df.head()"
   ]
  },
  {
   "cell_type": "markdown",
   "id": "fatal-preliminary",
   "metadata": {},
   "source": [
    "## Encode categorical values"
   ]
  },
  {
   "cell_type": "code",
   "execution_count": 3,
   "id": "dramatic-cowboy",
   "metadata": {},
   "outputs": [],
   "source": [
    "encoder = LabelEncoder()\n",
    "df['rated'] = encoder.fit_transform(df.rated)\n",
    "df['director'] = encoder.fit_transform(df.director)\n",
    "df['language'] = encoder.fit_transform(df.language)"
   ]
  },
  {
   "cell_type": "code",
   "execution_count": 4,
   "id": "authorized-characteristic",
   "metadata": {},
   "outputs": [
    {
     "data": {
      "text/html": [
       "<div>\n",
       "<style scoped>\n",
       "    .dataframe tbody tr th:only-of-type {\n",
       "        vertical-align: middle;\n",
       "    }\n",
       "\n",
       "    .dataframe tbody tr th {\n",
       "        vertical-align: top;\n",
       "    }\n",
       "\n",
       "    .dataframe thead th {\n",
       "        text-align: right;\n",
       "    }\n",
       "</style>\n",
       "<table border=\"1\" class=\"dataframe\">\n",
       "  <thead>\n",
       "    <tr style=\"text-align: right;\">\n",
       "      <th></th>\n",
       "      <th>movie</th>\n",
       "      <th>year</th>\n",
       "      <th>category</th>\n",
       "      <th>nominee</th>\n",
       "      <th>bafta</th>\n",
       "      <th>globe</th>\n",
       "      <th>oscar</th>\n",
       "      <th>rated</th>\n",
       "      <th>runtime</th>\n",
       "      <th>director</th>\n",
       "      <th>...</th>\n",
       "      <th>musical</th>\n",
       "      <th>romance</th>\n",
       "      <th>music</th>\n",
       "      <th>action</th>\n",
       "      <th>drama</th>\n",
       "      <th>comedy</th>\n",
       "      <th>sport</th>\n",
       "      <th>history</th>\n",
       "      <th>animation</th>\n",
       "      <th>thriller</th>\n",
       "    </tr>\n",
       "  </thead>\n",
       "  <tbody>\n",
       "    <tr>\n",
       "      <th>0</th>\n",
       "      <td>Raging Bull</td>\n",
       "      <td>1980</td>\n",
       "      <td>actor</td>\n",
       "      <td>Robert De Niro</td>\n",
       "      <td>0</td>\n",
       "      <td>1</td>\n",
       "      <td>1</td>\n",
       "      <td>4</td>\n",
       "      <td>129</td>\n",
       "      <td>162</td>\n",
       "      <td>...</td>\n",
       "      <td>0</td>\n",
       "      <td>0</td>\n",
       "      <td>0</td>\n",
       "      <td>0</td>\n",
       "      <td>1</td>\n",
       "      <td>0</td>\n",
       "      <td>1</td>\n",
       "      <td>0</td>\n",
       "      <td>0</td>\n",
       "      <td>0</td>\n",
       "    </tr>\n",
       "    <tr>\n",
       "      <th>1</th>\n",
       "      <td>Raging Bull</td>\n",
       "      <td>1980</td>\n",
       "      <td>director</td>\n",
       "      <td>Martin Scorsese</td>\n",
       "      <td>0</td>\n",
       "      <td>0</td>\n",
       "      <td>0</td>\n",
       "      <td>4</td>\n",
       "      <td>129</td>\n",
       "      <td>162</td>\n",
       "      <td>...</td>\n",
       "      <td>0</td>\n",
       "      <td>0</td>\n",
       "      <td>0</td>\n",
       "      <td>0</td>\n",
       "      <td>1</td>\n",
       "      <td>0</td>\n",
       "      <td>1</td>\n",
       "      <td>0</td>\n",
       "      <td>0</td>\n",
       "      <td>0</td>\n",
       "    </tr>\n",
       "    <tr>\n",
       "      <th>2</th>\n",
       "      <td>Raging Bull</td>\n",
       "      <td>1980</td>\n",
       "      <td>picture</td>\n",
       "      <td>Raging Bull</td>\n",
       "      <td>0</td>\n",
       "      <td>0</td>\n",
       "      <td>0</td>\n",
       "      <td>4</td>\n",
       "      <td>129</td>\n",
       "      <td>162</td>\n",
       "      <td>...</td>\n",
       "      <td>0</td>\n",
       "      <td>0</td>\n",
       "      <td>0</td>\n",
       "      <td>0</td>\n",
       "      <td>1</td>\n",
       "      <td>0</td>\n",
       "      <td>1</td>\n",
       "      <td>0</td>\n",
       "      <td>0</td>\n",
       "      <td>0</td>\n",
       "    </tr>\n",
       "    <tr>\n",
       "      <th>3</th>\n",
       "      <td>The Great Santini</td>\n",
       "      <td>1980</td>\n",
       "      <td>actor</td>\n",
       "      <td>Robert Duvall</td>\n",
       "      <td>0</td>\n",
       "      <td>0</td>\n",
       "      <td>0</td>\n",
       "      <td>2</td>\n",
       "      <td>115</td>\n",
       "      <td>152</td>\n",
       "      <td>...</td>\n",
       "      <td>0</td>\n",
       "      <td>0</td>\n",
       "      <td>0</td>\n",
       "      <td>0</td>\n",
       "      <td>1</td>\n",
       "      <td>0</td>\n",
       "      <td>0</td>\n",
       "      <td>0</td>\n",
       "      <td>0</td>\n",
       "      <td>0</td>\n",
       "    </tr>\n",
       "    <tr>\n",
       "      <th>4</th>\n",
       "      <td>The Elephant Man</td>\n",
       "      <td>1980</td>\n",
       "      <td>actor</td>\n",
       "      <td>John Hurt</td>\n",
       "      <td>1</td>\n",
       "      <td>0</td>\n",
       "      <td>0</td>\n",
       "      <td>2</td>\n",
       "      <td>124</td>\n",
       "      <td>57</td>\n",
       "      <td>...</td>\n",
       "      <td>0</td>\n",
       "      <td>0</td>\n",
       "      <td>0</td>\n",
       "      <td>0</td>\n",
       "      <td>1</td>\n",
       "      <td>0</td>\n",
       "      <td>0</td>\n",
       "      <td>0</td>\n",
       "      <td>0</td>\n",
       "      <td>0</td>\n",
       "    </tr>\n",
       "  </tbody>\n",
       "</table>\n",
       "<p>5 rows × 37 columns</p>\n",
       "</div>"
      ],
      "text/plain": [
       "               movie  year  category          nominee  bafta  globe  oscar  \\\n",
       "0        Raging Bull  1980     actor   Robert De Niro      0      1      1   \n",
       "1        Raging Bull  1980  director  Martin Scorsese      0      0      0   \n",
       "2        Raging Bull  1980   picture      Raging Bull      0      0      0   \n",
       "3  The Great Santini  1980     actor    Robert Duvall      0      0      0   \n",
       "4   The Elephant Man  1980     actor        John Hurt      1      0      0   \n",
       "\n",
       "   rated  runtime  director  ...  musical  romance  music  action  drama  \\\n",
       "0      4      129       162  ...        0        0      0       0      1   \n",
       "1      4      129       162  ...        0        0      0       0      1   \n",
       "2      4      129       162  ...        0        0      0       0      1   \n",
       "3      2      115       152  ...        0        0      0       0      1   \n",
       "4      2      124        57  ...        0        0      0       0      1   \n",
       "\n",
       "   comedy  sport  history  animation  thriller  \n",
       "0       0      1        0          0         0  \n",
       "1       0      1        0          0         0  \n",
       "2       0      1        0          0         0  \n",
       "3       0      0        0          0         0  \n",
       "4       0      0        0          0         0  \n",
       "\n",
       "[5 rows x 37 columns]"
      ]
     },
     "execution_count": 4,
     "metadata": {},
     "output_type": "execute_result"
    }
   ],
   "source": [
    "df.head()"
   ]
  },
  {
   "cell_type": "markdown",
   "id": "center-universe",
   "metadata": {},
   "source": [
    "## Split train and test data"
   ]
  },
  {
   "cell_type": "code",
   "execution_count": 5,
   "id": "varying-label",
   "metadata": {},
   "outputs": [],
   "source": [
    "predict_year = 2020\n",
    "categories = pd.unique(df.category)"
   ]
  },
  {
   "cell_type": "code",
   "execution_count": 6,
   "id": "combined-surge",
   "metadata": {},
   "outputs": [],
   "source": [
    "train = df[df.year < predict_year]\n",
    "test = df[df.year == predict_year]"
   ]
  },
  {
   "cell_type": "markdown",
   "id": "ordinary-collapse",
   "metadata": {},
   "source": [
    "## Predict"
   ]
  },
  {
   "cell_type": "code",
   "execution_count": 7,
   "id": "golden-slave",
   "metadata": {},
   "outputs": [],
   "source": [
    "to_drop = ['movie', 'year', 'nominee', 'category']"
   ]
  },
  {
   "cell_type": "code",
   "execution_count": 8,
   "id": "requested-literacy",
   "metadata": {},
   "outputs": [],
   "source": [
    "def get_train(category: str) -> tuple[pd.DataFrame, pd.Series]:\n",
    "    data = train[train.category == category].drop(columns=to_drop, axis=1)\n",
    "    train_Y, train_X = data['oscar'], data.drop('oscar', axis=1)\n",
    "    return train_X, train_Y"
   ]
  },
  {
   "cell_type": "code",
   "execution_count": 9,
   "id": "positive-pressing",
   "metadata": {},
   "outputs": [],
   "source": [
    "def get_test(category: str) -> tuple[pd.DataFrame, pd.DataFrame]:\n",
    "    data = test[test.category == category]\n",
    "    movies = data[['movie', 'year', 'nominee', 'oscar']]\n",
    "    return movies, data.drop(columns=[*to_drop, 'oscar'], axis=1)"
   ]
  },
  {
   "cell_type": "code",
   "execution_count": 10,
   "id": "liberal-collectible",
   "metadata": {},
   "outputs": [],
   "source": [
    "def is_correct_prediction(probs: np.ndarray, expected: np.ndarray) -> bool:\n",
    "    return expected.iloc[probs.argmax()] == 1"
   ]
  },
  {
   "cell_type": "code",
   "execution_count": 11,
   "id": "liquid-expression",
   "metadata": {},
   "outputs": [],
   "source": [
    "def plot_prediction(category: str, prediction: pd.DataFrame, is_correct: bool) -> plt.figure:\n",
    "    plt.figure(figsize=(16, 4))\n",
    "    title_color = 'g' if is_correct else 'r'\n",
    "    title_text = f'Best {category.capitalize()}'\n",
    "    \n",
    "    plt.title(title_text, color=title_color, fontweight='bold')\n",
    "    plt.xlabel('Probability')\n",
    "    plt.ylabel('Nominee')\n",
    "    plt.barh(prediction['nominee'], prediction['prob'], color='darkslateblue')"
   ]
  },
  {
   "cell_type": "code",
   "execution_count": 12,
   "id": "durable-disney",
   "metadata": {},
   "outputs": [],
   "source": [
    "def plot_all_predictions(predict: Callable) -> None:\n",
    "    for category in categories:\n",
    "        prediction = predict(category)\n",
    "        probs, actual = prediction['prob'], prediction['oscar']\n",
    "        is_correct = is_correct_prediction(probs, actual)\n",
    "        plot_prediction(category, prediction, is_correct)"
   ]
  },
  {
   "cell_type": "code",
   "execution_count": 13,
   "id": "textile-isaac",
   "metadata": {},
   "outputs": [],
   "source": [
    "def predict(clf, category: str) -> pd.DataFrame:\n",
    "    movies, test_X = get_test(category)\n",
    "    probs = clf.predict_proba(test_X)[:, 1]\n",
    "    movies['prob'] = probs / np.sum(probs)\n",
    "    return movies.sort_values(by='prob')"
   ]
  },
  {
   "cell_type": "markdown",
   "id": "straight-stations",
   "metadata": {},
   "source": [
    "### Logistic Regression"
   ]
  },
  {
   "cell_type": "code",
   "execution_count": 14,
   "id": "cleared-insured",
   "metadata": {},
   "outputs": [],
   "source": [
    "def predict_logistic_regression(category: str) -> pd.DataFrame:\n",
    "    train_X, train_Y = get_train(category)\n",
    "    clf = LogisticRegression(random_state=4)\n",
    "    clf.fit(train_X, train_Y)\n",
    "    return predict(clf, category)"
   ]
  },
  {
   "cell_type": "code",
   "execution_count": 15,
   "id": "occasional-exclusion",
   "metadata": {},
   "outputs": [
    {
     "data": {
      "image/png": "[encoded data removed]",
      "text/plain": [
       "<Figure size 1152x288 with 1 Axes>"
      ]
     },
     "metadata": {
      "needs_background": "light"
     },
     "output_type": "display_data"
    },
    {
     "data": {
      "image/png": "[encoded data removed]",
      "text/plain": [
       "<Figure size 1152x288 with 1 Axes>"
      ]
     },
     "metadata": {
      "needs_background": "light"
     },
     "output_type": "display_data"
    },
    {
     "data": {
      "image/png": "[encoded data removed]",
      "text/plain": [
       "<Figure size 1152x288 with 1 Axes>"
      ]
     },
     "metadata": {
      "needs_background": "light"
     },
     "output_type": "display_data"
    },
    {
     "data": {
      "image/png": "[encoded data removed]",
      "text/plain": [
       "<Figure size 1152x288 with 1 Axes>"
      ]
     },
     "metadata": {
      "needs_background": "light"
     },
     "output_type": "display_data"
    }
   ],
   "source": [
    "plot_all_predictions(predict_logistic_regression)"
   ]
  },
  {
   "cell_type": "markdown",
   "id": "taken-elizabeth",
   "metadata": {},
   "source": [
    "### Random forest"
   ]
  },
  {
   "cell_type": "code",
   "execution_count": 16,
   "id": "arabic-breakfast",
   "metadata": {},
   "outputs": [],
   "source": [
    "def predict_random_forest(category: str) -> pd.DataFrame:\n",
    "    train_X, train_Y = get_train(category) \n",
    "    rfc = RandomForestClassifier(n_estimators = 300, random_state=4)\n",
    "    rfc.fit(train_X, train_Y)\n",
    "    return predict(rfc, category)"
   ]
  },
  {
   "cell_type": "code",
   "execution_count": null,
   "id": "cellular-catering",
   "metadata": {},
   "outputs": [],
   "source": [
    "plot_all_predictions(predict_random_forest)"
   ]
  },
  {
   "cell_type": "markdown",
   "id": "narrow-norwegian",
   "metadata": {},
   "source": [
    "### XGboost"
   ]
  },
  {
   "cell_type": "code",
   "execution_count": null,
   "id": "informal-albany",
   "metadata": {},
   "outputs": [],
   "source": [
    "def predict_xgboost(category: str) -> pd.DataFrame:\n",
    "    train_X, train_Y = get_train(category)    \n",
    "    xgbc = XGBClassifier(use_label_encoder=False) \n",
    "    xgbc.fit(train_X, train_Y)\n",
    "    return predict(xgbc, category)"
   ]
  },
  {
   "cell_type": "code",
   "execution_count": null,
   "id": "stable-exhibition",
   "metadata": {},
   "outputs": [],
   "source": [
    "plot_all_predictions(predict_xgboost)"
   ]
  },
  {
   "cell_type": "markdown",
   "id": "constant-runner",
   "metadata": {},
   "source": [
    "### Lightgbm"
   ]
  },
  {
   "cell_type": "code",
   "execution_count": null,
   "id": "double-arabic",
   "metadata": {},
   "outputs": [],
   "source": [
    "def predict_lightgbm(category: str) -> pd.DataFrame:\n",
    "    train_X, train_Y = get_train(category) \n",
    "    lgbmc = LGBMClassifier()\n",
    "    lgbmc.fit(train_X, train_Y)\n",
    "    return predict(lgbmc, category)"
   ]
  },
  {
   "cell_type": "code",
   "execution_count": null,
   "id": "interpreted-tribune",
   "metadata": {},
   "outputs": [],
   "source": [
    "plot_all_predictions(predict_lightgbm)"
   ]
  },
  {
   "cell_type": "code",
   "execution_count": null,
   "id": "democratic-tackle",
   "metadata": {},
   "outputs": [],
   "source": []
  }
 ],
 "metadata": {
  "kernelspec": {
   "display_name": "Python 3",
   "language": "python",
   "name": "python3"
  },
  "language_info": {
   "codemirror_mode": {
    "name": "ipython",
    "version": 3
   },
   "file_extension": ".py",
   "mimetype": "text/x-python",
   "name": "python",
   "nbconvert_exporter": "python",
   "pygments_lexer": "ipython3",
   "version": "3.9.4"
  }
 },
 "nbformat": 4,
 "nbformat_minor": 5
}
