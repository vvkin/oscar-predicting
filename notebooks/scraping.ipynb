{
 "cells": [
  {
   "cell_type": "markdown",
   "id": "noble-athletics",
   "metadata": {},
   "source": [
    "# Data Scraping"
   ]
  },
  {
   "cell_type": "markdown",
   "id": "wooden-internet",
   "metadata": {},
   "source": [
    "## Import libraries"
   ]
  },
  {
   "cell_type": "code",
   "execution_count": 1,
   "id": "express-parcel",
   "metadata": {},
   "outputs": [],
   "source": [
    "import numpy as np\n",
    "import pandas as pd\n",
    "\n",
    "import re\n",
    "import requests\n",
    "from bs4 import BeautifulSoup\n",
    "\n",
    "from functools import partial\n",
    "from typing import Union"
   ]
  },
  {
   "cell_type": "markdown",
   "id": "false-formula",
   "metadata": {},
   "source": [
    "## Helper functions"
   ]
  },
  {
   "cell_type": "code",
   "execution_count": 2,
   "id": "opposed-genetics",
   "metadata": {},
   "outputs": [],
   "source": [
    "def get_page_content(url: str) -> str:\n",
    "    response = requests.get(url)\n",
    "    if response.status_code != 200:\n",
    "        raise Exception('Response code is not equal to 200')\n",
    "    return response.content"
   ]
  },
  {
   "cell_type": "code",
   "execution_count": 3,
   "id": "protective-fabric",
   "metadata": {},
   "outputs": [],
   "source": [
    "def parse_year(content: str) -> str:\n",
    "    match = re.search('[0-9]{4}', content)\n",
    "    return match.group(0) if match else ''"
   ]
  },
  {
   "cell_type": "code",
   "execution_count": 4,
   "id": "adjustable-burke",
   "metadata": {},
   "outputs": [],
   "source": [
    "def get_real_year(movie_year: int, row_content: str) -> int:\n",
    "    row_year = parse_year(row_content)\n",
    "    real_year = row_year if row_year else str(movie_year)\n",
    "    return int(real_year) if real_year.isdigit() else 0"
   ]
  },
  {
   "cell_type": "code",
   "execution_count": 5,
   "id": "equal-contractor",
   "metadata": {},
   "outputs": [],
   "source": [
    "def is_winner(row: BeautifulSoup) -> bool:\n",
    "    colors = ['b0c4de', 'faeb86', 'd3d3d3', 'ccc']\n",
    "    content = row['style'] if row.get('style') else str(row)\n",
    "    return any(clr in content.lower() for clr in colors)"
   ]
  },
  {
   "cell_type": "code",
   "execution_count": 6,
   "id": "asian-cosmetic",
   "metadata": {},
   "outputs": [],
   "source": [
    "def parse_award_row(row: BeautifulSoup, movie_year: int, nominee_idx: int, movie_idx: int) -> dict[str, Union[str, int, bool]]:\n",
    "    columns = row.find_all('td')\n",
    "    \n",
    "    if len(columns) < max(max(movie_idx, nominee_idx) + 1, 2):\n",
    "        return {}\n",
    "    \n",
    "    if columns[0].text.replace('\\n', '').isdigit(): # year value\n",
    "        columns.pop(0)\n",
    "        \n",
    "    movie_dict = {'year': movie_year, 'winner': is_winner(row)}\n",
    "    nominee = columns[nominee_idx]\n",
    "    movie = columns[movie_idx]\n",
    "    movie_link = movie.find('a')\n",
    "    \n",
    "    movie_dict['nominee'] = nominee.text.replace('\\n', '').strip()\n",
    "    movie_dict['movie'] = movie.text.replace('&', 'and').replace('\\n', '').strip()\n",
    "    movie_dict['wiki_url'] = movie_link['href'] if movie_link else ''\n",
    "\n",
    "    return movie_dict"
   ]
  },
  {
   "cell_type": "code",
   "execution_count": 7,
   "id": "small-block",
   "metadata": {},
   "outputs": [],
   "source": [
    "def parse_award_page(options: dict[str, str], min_year: int = 1960, max_year: int = 2020) -> dict[str, str]:\n",
    "    wiki_content = get_page_content(options['wiki_url'])\n",
    "    wiki_soup = BeautifulSoup(wiki_content)\n",
    "    wiki_tables = wiki_soup.find_all('table', class_='wikitable') \n",
    "    \n",
    "    movies_list = []\n",
    "    movie_award = options['award']\n",
    "    movie_category = options['category']\n",
    "    \n",
    "    parse_row = partial(\n",
    "        parse_award_row,\n",
    "        nominee_idx=options['nominee_idx'],\n",
    "        movie_idx=options['movie_idx'],\n",
    "    )\n",
    "    \n",
    "    for table in wiki_tables:\n",
    "        table_rows = table.find_all('tr')[1:] # skip headers\n",
    "        movie_year = parse_year(table.text[0:25])\n",
    "                \n",
    "        for row in table_rows:\n",
    "            movie_year = get_real_year(movie_year, row.text[0:25])\n",
    "            \n",
    "            if any((not movie_year, movie_year < min_year, movie_year > max_year)):\n",
    "                continue\n",
    "            \n",
    "            if (movie := parse_row(row, movie_year)):\n",
    "                movie['award'] = movie_award\n",
    "                movie['category'] = movie_category\n",
    "                movies_list.append(movie)\n",
    "    \n",
    "    return movies_list"
   ]
  },
  {
   "cell_type": "markdown",
   "id": "induced-spray",
   "metadata": {},
   "source": [
    "## Get movies awards (Oscar, BAFTA, Golden Globe)"
   ]
  },
  {
   "cell_type": "markdown",
   "id": "religious-justice",
   "metadata": {},
   "source": [
    "### Define categories"
   ]
  },
  {
   "cell_type": "code",
   "execution_count": 8,
   "id": "controlling-concert",
   "metadata": {},
   "outputs": [
    {
     "name": "stdout",
     "output_type": "stream",
     "text": [
      "There are 4 categories in total\n"
     ]
    }
   ],
   "source": [
    "categories = ['picture', 'director', 'actor', 'actrees']\n",
    "print(f'There are {len(categories)} categories in total')"
   ]
  },
  {
   "cell_type": "markdown",
   "id": "partial-input",
   "metadata": {},
   "source": [
    "### Define search queries"
   ]
  },
  {
   "cell_type": "code",
   "execution_count": 9,
   "id": "median-ghana",
   "metadata": {},
   "outputs": [],
   "source": [
    "def get_query(query: str, award: str, category: str, movie_idx: int, nominee_idx: int) -> dict[str, Union[str, int]]:\n",
    "    return {\n",
    "        'wiki_url': 'https://en.wikipedia.org/wiki/' + query,\n",
    "        'award': award,\n",
    "        'category': category,\n",
    "        'movie_idx': int(movie_idx),\n",
    "        'nominee_idx': int(nominee_idx)\n",
    "    }"
   ]
  },
  {
   "cell_type": "code",
   "execution_count": 10,
   "id": "controlling-evans",
   "metadata": {},
   "outputs": [],
   "source": [
    "queries = [\n",
    "    # actor\n",
    "    get_query('Academy_Award_for_Best_Actor', 'oscar', 'actor', 2, 0),\n",
    "    get_query('BAFTA_Award_for_Best_Actor_in_a_Leading_Role', 'bafta', 'actor', 1, 0),\n",
    "    get_query('Golden_Globe_Award_for_Best_Actor_–_Motion_Picture_Drama', 'globe', 'actor', 2, 0),\n",
    "    get_query('Golden_Globe_Award_for_Best_Actor_–_Motion_Picture_Musical_or_Comedy', 'globe', 'actor', 2, 0),\n",
    "    # actress\n",
    "    get_query('Academy_Award_for_Best_Actress', 'oscar', 'actress', 2, 0),\n",
    "    get_query('BAFTA_Award_for_Best_Actress_in_a_Leading_Role', 'bafta', 'actress', 1, 0),\n",
    "    get_query('Golden_Globe_Award_for_Best_Actress_–_Motion_Picture_Drama', 'globe', 'actress', 2, 0),\n",
    "    get_query('Golden_Globe_Award_for_Best_Actress_–_Motion_Picture_Musical_or_Comedy', 'globe', 'actress', 2, 0),\n",
    "    # director\n",
    "    get_query('Academy_Award_for_Best_Director', 'oscar', 'director', 1, 0),\n",
    "    get_query('BAFTA_Award_for_Best_Direction', 'bafta', 'director', 1, 0),\n",
    "    get_query('Golden_Globe_Award_for_Best_Director', 'globe', 'director', 1, 0),\n",
    "    # picture\n",
    "    get_query('Academy_Award_for_Best_Picture', 'oscar', 'picture', 0, 0),\n",
    "    get_query('BAFTA_Award_for_Best_Film', 'bafta', 'picture', 1, 1),\n",
    "    get_query('Golden_Globe_Award_for_Best_Motion_Picture_–_Drama', 'globe', 'picture', 0, 0),\n",
    "    get_query('Golden_Globe_Award_for_Best_Motion_Picture_–_Musical_or_Comedy', 'globe', 'picture', 0, 0),\n",
    "]"
   ]
  },
  {
   "cell_type": "markdown",
   "id": "august-lithuania",
   "metadata": {},
   "source": [
    "### Scrap data from Wikipedia"
   ]
  },
  {
   "cell_type": "code",
   "execution_count": 11,
   "id": "processed-effect",
   "metadata": {},
   "outputs": [],
   "source": [
    "awards = []\n",
    "\n",
    "for query in queries:\n",
    "    award = parse_award_page(query)\n",
    "    awards.extend(award)"
   ]
  },
  {
   "cell_type": "code",
   "execution_count": 12,
   "id": "medical-crowd",
   "metadata": {},
   "outputs": [
    {
     "data": {
      "text/plain": [
       "4617"
      ]
     },
     "execution_count": 12,
     "metadata": {},
     "output_type": "execute_result"
    }
   ],
   "source": [
    "len(awards)"
   ]
  },
  {
   "cell_type": "code",
   "execution_count": 13,
   "id": "confirmed-radical",
   "metadata": {},
   "outputs": [
    {
     "data": {
      "text/plain": [
       "{'year': 1960,\n",
       " 'winner': True,\n",
       " 'nominee': 'Burt Lancaster',\n",
       " 'movie': 'Elmer Gantry',\n",
       " 'wiki_url': '/wiki/Elmer_Gantry_(film)',\n",
       " 'award': 'oscar',\n",
       " 'category': 'actor'}"
      ]
     },
     "execution_count": 13,
     "metadata": {},
     "output_type": "execute_result"
    }
   ],
   "source": [
    "awards[0]"
   ]
  },
  {
   "cell_type": "markdown",
   "id": "seasonal-twelve",
   "metadata": {},
   "source": [
    "### Create dataframe"
   ]
  },
  {
   "cell_type": "code",
   "execution_count": 14,
   "id": "responsible-transfer",
   "metadata": {},
   "outputs": [],
   "source": [
    "award_df = pd.DataFrame.from_dict(awards)"
   ]
  },
  {
   "cell_type": "code",
   "execution_count": 15,
   "id": "tamil-cisco",
   "metadata": {},
   "outputs": [
    {
     "data": {
      "text/html": [
       "<div>\n",
       "<style scoped>\n",
       "    .dataframe tbody tr th:only-of-type {\n",
       "        vertical-align: middle;\n",
       "    }\n",
       "\n",
       "    .dataframe tbody tr th {\n",
       "        vertical-align: top;\n",
       "    }\n",
       "\n",
       "    .dataframe thead th {\n",
       "        text-align: right;\n",
       "    }\n",
       "</style>\n",
       "<table border=\"1\" class=\"dataframe\">\n",
       "  <thead>\n",
       "    <tr style=\"text-align: right;\">\n",
       "      <th></th>\n",
       "      <th>year</th>\n",
       "      <th>winner</th>\n",
       "      <th>nominee</th>\n",
       "      <th>movie</th>\n",
       "      <th>wiki_url</th>\n",
       "      <th>award</th>\n",
       "      <th>category</th>\n",
       "    </tr>\n",
       "  </thead>\n",
       "  <tbody>\n",
       "    <tr>\n",
       "      <th>0</th>\n",
       "      <td>1960</td>\n",
       "      <td>True</td>\n",
       "      <td>Burt Lancaster</td>\n",
       "      <td>Elmer Gantry</td>\n",
       "      <td>/wiki/Elmer_Gantry_(film)</td>\n",
       "      <td>oscar</td>\n",
       "      <td>actor</td>\n",
       "    </tr>\n",
       "    <tr>\n",
       "      <th>1</th>\n",
       "      <td>1960</td>\n",
       "      <td>False</td>\n",
       "      <td>Trevor Howard</td>\n",
       "      <td>Sons and Lovers</td>\n",
       "      <td>/wiki/Sons_and_Lovers_(film)</td>\n",
       "      <td>oscar</td>\n",
       "      <td>actor</td>\n",
       "    </tr>\n",
       "    <tr>\n",
       "      <th>2</th>\n",
       "      <td>1960</td>\n",
       "      <td>False</td>\n",
       "      <td>Jack Lemmon</td>\n",
       "      <td>The Apartment</td>\n",
       "      <td>/wiki/The_Apartment</td>\n",
       "      <td>oscar</td>\n",
       "      <td>actor</td>\n",
       "    </tr>\n",
       "    <tr>\n",
       "      <th>3</th>\n",
       "      <td>1960</td>\n",
       "      <td>False</td>\n",
       "      <td>Laurence Olivier</td>\n",
       "      <td>The Entertainer</td>\n",
       "      <td>/wiki/The_Entertainer_(film)</td>\n",
       "      <td>oscar</td>\n",
       "      <td>actor</td>\n",
       "    </tr>\n",
       "    <tr>\n",
       "      <th>4</th>\n",
       "      <td>1960</td>\n",
       "      <td>False</td>\n",
       "      <td>Spencer Tracy</td>\n",
       "      <td>Inherit the Wind</td>\n",
       "      <td>/wiki/Inherit_the_Wind_(1960_film)</td>\n",
       "      <td>oscar</td>\n",
       "      <td>actor</td>\n",
       "    </tr>\n",
       "  </tbody>\n",
       "</table>\n",
       "</div>"
      ],
      "text/plain": [
       "   year  winner           nominee             movie  \\\n",
       "0  1960    True    Burt Lancaster      Elmer Gantry   \n",
       "1  1960   False     Trevor Howard   Sons and Lovers   \n",
       "2  1960   False       Jack Lemmon     The Apartment   \n",
       "3  1960   False  Laurence Olivier   The Entertainer   \n",
       "4  1960   False     Spencer Tracy  Inherit the Wind   \n",
       "\n",
       "                             wiki_url  award category  \n",
       "0           /wiki/Elmer_Gantry_(film)  oscar    actor  \n",
       "1        /wiki/Sons_and_Lovers_(film)  oscar    actor  \n",
       "2                 /wiki/The_Apartment  oscar    actor  \n",
       "3        /wiki/The_Entertainer_(film)  oscar    actor  \n",
       "4  /wiki/Inherit_the_Wind_(1960_film)  oscar    actor  "
      ]
     },
     "execution_count": 15,
     "metadata": {},
     "output_type": "execute_result"
    }
   ],
   "source": [
    "award_df.head()"
   ]
  },
  {
   "cell_type": "markdown",
   "id": "geological-johns",
   "metadata": {},
   "source": [
    "### Save to .csv file"
   ]
  },
  {
   "cell_type": "code",
   "execution_count": 16,
   "id": "civic-house",
   "metadata": {},
   "outputs": [],
   "source": [
    "award_df.to_csv('../data/awards.csv')"
   ]
  },
  {
   "cell_type": "code",
   "execution_count": null,
   "id": "funded-canvas",
   "metadata": {},
   "outputs": [],
   "source": []
  }
 ],
 "metadata": {
  "kernelspec": {
   "display_name": "Python 3",
   "language": "python",
   "name": "python3"
  },
  "language_info": {
   "codemirror_mode": {
    "name": "ipython",
    "version": 3
   },
   "file_extension": ".py",
   "mimetype": "text/x-python",
   "name": "python",
   "nbconvert_exporter": "python",
   "pygments_lexer": "ipython3",
   "version": "3.9.4"
  }
 },
 "nbformat": 4,
 "nbformat_minor": 5
}
