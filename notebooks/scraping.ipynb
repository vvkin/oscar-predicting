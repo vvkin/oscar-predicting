{
 "cells": [
  {
   "cell_type": "markdown",
   "id": "under-edward",
   "metadata": {},
   "source": [
    "# Data Scraping"
   ]
  },
  {
   "cell_type": "markdown",
   "id": "nuclear-fleet",
   "metadata": {},
   "source": [
    "## Import libraries"
   ]
  },
  {
   "cell_type": "code",
   "execution_count": 1,
   "id": "encouraging-howard",
   "metadata": {},
   "outputs": [],
   "source": [
    "import pandas as pd\n",
    "\n",
    "import re\n",
    "import os\n",
    "import time\n",
    "\n",
    "import requests\n",
    "from bs4 import BeautifulSoup\n",
    "\n",
    "from functools import partial\n",
    "from typing import Union"
   ]
  },
  {
   "cell_type": "markdown",
   "id": "residential-segment",
   "metadata": {},
   "source": [
    "## Helper functions"
   ]
  },
  {
   "cell_type": "code",
   "execution_count": 2,
   "id": "spatial-catch",
   "metadata": {},
   "outputs": [],
   "source": [
    "def get_page_content(url: str) -> str:\n",
    "    response = requests.get(url)\n",
    "    if response.status_code != 200:\n",
    "        raise Exception('Response code is not equal to 200')\n",
    "    return response.content"
   ]
  },
  {
   "cell_type": "code",
   "execution_count": 3,
   "id": "outstanding-investigator",
   "metadata": {},
   "outputs": [],
   "source": [
    "def parse_year(content: str) -> str:\n",
    "    match = re.search('[0-9]{4}', content)\n",
    "    return match.group(0) if match else ''"
   ]
  },
  {
   "cell_type": "code",
   "execution_count": 4,
   "id": "atmospheric-possibility",
   "metadata": {},
   "outputs": [],
   "source": [
    "def parse_number(content: str) -> Union[int, None]:\n",
    "    match = re.search('\\d+', content)\n",
    "    return match.group(0) if match else None   "
   ]
  },
  {
   "cell_type": "markdown",
   "id": "rising-residence",
   "metadata": {},
   "source": [
    "## Get movies awards (Oscar, BAFTA, Golden Globe)"
   ]
  },
  {
   "cell_type": "markdown",
   "id": "atmospheric-defense",
   "metadata": {},
   "source": [
    "### Helpers to parse Wikipedia pages"
   ]
  },
  {
   "cell_type": "code",
   "execution_count": 5,
   "id": "particular-treaty",
   "metadata": {},
   "outputs": [],
   "source": [
    "def get_real_year(movie_year: int, row_content: str) -> int:\n",
    "    row_year = parse_year(row_content)\n",
    "    real_year = row_year if row_year else str(movie_year)\n",
    "    return int(real_year) if real_year.isdigit() else 0"
   ]
  },
  {
   "cell_type": "code",
   "execution_count": 6,
   "id": "circular-reporter",
   "metadata": {},
   "outputs": [],
   "source": [
    "def is_winner(row: BeautifulSoup) -> bool:\n",
    "    colors = ['b0c4de', 'faeb86', 'd3d3d3', 'ccc']\n",
    "    content = row['style'] if row.get('style') else str(row)\n",
    "    return any(clr in content.lower() for clr in colors)"
   ]
  },
  {
   "cell_type": "code",
   "execution_count": 48,
   "id": "arabic-audio",
   "metadata": {},
   "outputs": [],
   "source": [
    "def parse_award_row(row: BeautifulSoup, movie_year: int, \n",
    "                    nominee_idx: int, movie_idx: int) -> dict[str, Union[str, int, bool]]:\n",
    "    columns = row.find_all('td')\n",
    "    \n",
    "    if len(columns) < max(max(movie_idx, nominee_idx) + 1, 2):\n",
    "        return {}\n",
    "    \n",
    "    f_column = columns[0].text.replace('\\n', '').replace('[', '').replace(']', '')\n",
    "    if f_column.isdigit(): # year value\n",
    "        columns.pop(0)\n",
    "        \n",
    "    movie_dict = {'year': movie_year, 'winner': is_winner(row)}\n",
    "    nominee = columns[nominee_idx]\n",
    "    movie = columns[movie_idx]\n",
    "    movie_link = movie.find('a')\n",
    "    \n",
    "    movie_dict['nominee'] = nominee.text.replace('\\n', '').strip()\n",
    "    movie_dict['movie'] = movie.text.replace('&', 'and').replace('\\n', '').strip()\n",
    "    movie_dict['wiki_url'] = movie_link['href'] if movie_link else ''\n",
    "\n",
    "    return movie_dict"
   ]
  },
  {
   "cell_type": "code",
   "execution_count": 49,
   "id": "polyphonic-incentive",
   "metadata": {},
   "outputs": [],
   "source": [
    "def parse_award_page(options: dict[str, str], min_year: int = 1980, max_year: int = 2021) -> dict[str, str]:\n",
    "    wiki_content = get_page_content(options['wiki_url'])\n",
    "    wiki_soup = BeautifulSoup(wiki_content)\n",
    "    wiki_tables = wiki_soup.find_all('table', class_='wikitable') \n",
    "    \n",
    "    movies_list = []\n",
    "    movie_award = options['award']\n",
    "    movie_category = options['category']\n",
    "    \n",
    "    parse_row = partial(\n",
    "        parse_award_row,\n",
    "        nominee_idx=options['nominee_idx'],\n",
    "        movie_idx=options['movie_idx'],\n",
    "    )\n",
    "    \n",
    "    for table in wiki_tables:\n",
    "        table_rows = table.find_all('tr')[1:] # skip headers\n",
    "        movie_year = parse_year(table.text[0:25])\n",
    "                \n",
    "        for row in table_rows:\n",
    "            movie_year = get_real_year(movie_year, row.text[0:25])\n",
    "            \n",
    "            if any((not movie_year, movie_year < min_year, movie_year > max_year)):\n",
    "                continue\n",
    "            \n",
    "            if (movie := parse_row(row, movie_year)):\n",
    "                movie['award'] = movie_award\n",
    "                movie['category'] = movie_category\n",
    "                movies_list.append(movie)\n",
    "    \n",
    "    return movies_list"
   ]
  },
  {
   "cell_type": "markdown",
   "id": "bulgarian-cassette",
   "metadata": {},
   "source": [
    "### Define categories"
   ]
  },
  {
   "cell_type": "code",
   "execution_count": 50,
   "id": "starting-wells",
   "metadata": {},
   "outputs": [
    {
     "name": "stdout",
     "output_type": "stream",
     "text": [
      "There are 4 categories in total\n"
     ]
    }
   ],
   "source": [
    "categories = ['picture', 'director', 'actor', 'actrees']\n",
    "print(f'There are {len(categories)} categories in total')"
   ]
  },
  {
   "cell_type": "markdown",
   "id": "sustainable-torture",
   "metadata": {},
   "source": [
    "### Define search queries"
   ]
  },
  {
   "cell_type": "code",
   "execution_count": 51,
   "id": "breathing-river",
   "metadata": {},
   "outputs": [],
   "source": [
    "def get_query(query: str, award: str, category: str, movie_idx: int, nominee_idx: int) -> dict[str, Union[str, int]]:\n",
    "    return {\n",
    "        'wiki_url': 'https://en.wikipedia.org/wiki/' + query,\n",
    "        'award': award,\n",
    "        'category': category,\n",
    "        'movie_idx': int(movie_idx),\n",
    "        'nominee_idx': int(nominee_idx)\n",
    "    }"
   ]
  },
  {
   "cell_type": "code",
   "execution_count": 52,
   "id": "statistical-lodging",
   "metadata": {},
   "outputs": [],
   "source": [
    "queries = [\n",
    "    # actor\n",
    "    get_query('Academy_Award_for_Best_Actor', 'oscar', 'actor', 2, 0),\n",
    "    get_query('BAFTA_Award_for_Best_Actor_in_a_Leading_Role', 'bafta', 'actor', 1, 0),\n",
    "    get_query('Golden_Globe_Award_for_Best_Actor_–_Motion_Picture_Drama', 'globe', 'actor', 2, 0),\n",
    "    get_query('Golden_Globe_Award_for_Best_Actor_–_Motion_Picture_Musical_or_Comedy', 'globe', 'actor', 2, 0),\n",
    "    # actress\n",
    "    get_query('Academy_Award_for_Best_Actress', 'oscar', 'actress', 2, 0),\n",
    "    get_query('BAFTA_Award_for_Best_Actress_in_a_Leading_Role', 'bafta', 'actress', 1, 0),\n",
    "    get_query('Golden_Globe_Award_for_Best_Actress_–_Motion_Picture_Drama', 'globe', 'actress', 2, 0),\n",
    "    get_query('Golden_Globe_Award_for_Best_Actress_–_Motion_Picture_Musical_or_Comedy', 'globe', 'actress', 2, 0),\n",
    "    # director\n",
    "    get_query('Academy_Award_for_Best_Director', 'oscar', 'director', 1, 0),\n",
    "    get_query('BAFTA_Award_for_Best_Direction', 'bafta', 'director', 1, 0),\n",
    "    get_query('Golden_Globe_Award_for_Best_Director', 'globe', 'director', 1, 0),\n",
    "    # picture\n",
    "    get_query('Academy_Award_for_Best_Picture', 'oscar', 'picture', 0, 0),\n",
    "    get_query('BAFTA_Award_for_Best_Film', 'bafta', 'picture', 1, 1),\n",
    "    get_query('Golden_Globe_Award_for_Best_Motion_Picture_–_Drama', 'globe', 'picture', 0, 0),\n",
    "    get_query('Golden_Globe_Award_for_Best_Motion_Picture_–_Musical_or_Comedy', 'globe', 'picture', 0, 0),\n",
    "]"
   ]
  },
  {
   "cell_type": "markdown",
   "id": "federal-sunrise",
   "metadata": {},
   "source": [
    "### Scrap data from Wikipedia"
   ]
  },
  {
   "cell_type": "code",
   "execution_count": 53,
   "id": "exempt-blackberry",
   "metadata": {},
   "outputs": [],
   "source": [
    "awards = []\n",
    "\n",
    "for query in queries:\n",
    "    award = parse_award_page(query)\n",
    "    awards.extend(award)\n",
    "    time.sleep(1)"
   ]
  },
  {
   "cell_type": "code",
   "execution_count": 43,
   "id": "strange-board",
   "metadata": {},
   "outputs": [
    {
     "data": {
      "text/plain": [
       "3051"
      ]
     },
     "execution_count": 43,
     "metadata": {},
     "output_type": "execute_result"
    }
   ],
   "source": [
    "len(awards)"
   ]
  },
  {
   "cell_type": "code",
   "execution_count": 54,
   "id": "detailed-emerald",
   "metadata": {},
   "outputs": [
    {
     "data": {
      "text/plain": [
       "{'year': 1980,\n",
       " 'winner': True,\n",
       " 'nominee': 'Robert De Niro',\n",
       " 'movie': 'Raging Bull',\n",
       " 'wiki_url': '/wiki/Raging_Bull',\n",
       " 'award': 'oscar',\n",
       " 'category': 'actor'}"
      ]
     },
     "execution_count": 54,
     "metadata": {},
     "output_type": "execute_result"
    }
   ],
   "source": [
    "awards[0]"
   ]
  },
  {
   "cell_type": "markdown",
   "id": "brave-nurse",
   "metadata": {},
   "source": [
    "### Create dataframe"
   ]
  },
  {
   "cell_type": "code",
   "execution_count": 55,
   "id": "female-omega",
   "metadata": {},
   "outputs": [],
   "source": [
    "award_df = pd.DataFrame.from_dict(awards)"
   ]
  },
  {
   "cell_type": "code",
   "execution_count": 56,
   "id": "sound-broadcasting",
   "metadata": {},
   "outputs": [
    {
     "data": {
      "text/html": [
       "<div>\n",
       "<style scoped>\n",
       "    .dataframe tbody tr th:only-of-type {\n",
       "        vertical-align: middle;\n",
       "    }\n",
       "\n",
       "    .dataframe tbody tr th {\n",
       "        vertical-align: top;\n",
       "    }\n",
       "\n",
       "    .dataframe thead th {\n",
       "        text-align: right;\n",
       "    }\n",
       "</style>\n",
       "<table border=\"1\" class=\"dataframe\">\n",
       "  <thead>\n",
       "    <tr style=\"text-align: right;\">\n",
       "      <th></th>\n",
       "      <th>year</th>\n",
       "      <th>winner</th>\n",
       "      <th>nominee</th>\n",
       "      <th>movie</th>\n",
       "      <th>wiki_url</th>\n",
       "      <th>award</th>\n",
       "      <th>category</th>\n",
       "    </tr>\n",
       "  </thead>\n",
       "  <tbody>\n",
       "    <tr>\n",
       "      <th>0</th>\n",
       "      <td>1980</td>\n",
       "      <td>True</td>\n",
       "      <td>Robert De Niro</td>\n",
       "      <td>Raging Bull</td>\n",
       "      <td>/wiki/Raging_Bull</td>\n",
       "      <td>oscar</td>\n",
       "      <td>actor</td>\n",
       "    </tr>\n",
       "    <tr>\n",
       "      <th>1</th>\n",
       "      <td>1980</td>\n",
       "      <td>False</td>\n",
       "      <td>Robert Duvall</td>\n",
       "      <td>The Great Santini</td>\n",
       "      <td>/wiki/The_Great_Santini</td>\n",
       "      <td>oscar</td>\n",
       "      <td>actor</td>\n",
       "    </tr>\n",
       "    <tr>\n",
       "      <th>2</th>\n",
       "      <td>1980</td>\n",
       "      <td>False</td>\n",
       "      <td>John Hurt</td>\n",
       "      <td>The Elephant Man</td>\n",
       "      <td>/wiki/The_Elephant_Man_(film)</td>\n",
       "      <td>oscar</td>\n",
       "      <td>actor</td>\n",
       "    </tr>\n",
       "    <tr>\n",
       "      <th>3</th>\n",
       "      <td>1980</td>\n",
       "      <td>False</td>\n",
       "      <td>Jack Lemmon</td>\n",
       "      <td>Tribute</td>\n",
       "      <td>/wiki/Tribute_(1980_film)</td>\n",
       "      <td>oscar</td>\n",
       "      <td>actor</td>\n",
       "    </tr>\n",
       "    <tr>\n",
       "      <th>4</th>\n",
       "      <td>1980</td>\n",
       "      <td>False</td>\n",
       "      <td>Peter O'Toole</td>\n",
       "      <td>The Stunt Man</td>\n",
       "      <td>/wiki/The_Stunt_Man</td>\n",
       "      <td>oscar</td>\n",
       "      <td>actor</td>\n",
       "    </tr>\n",
       "  </tbody>\n",
       "</table>\n",
       "</div>"
      ],
      "text/plain": [
       "   year  winner         nominee              movie  \\\n",
       "0  1980    True  Robert De Niro        Raging Bull   \n",
       "1  1980   False   Robert Duvall  The Great Santini   \n",
       "2  1980   False       John Hurt   The Elephant Man   \n",
       "3  1980   False     Jack Lemmon            Tribute   \n",
       "4  1980   False   Peter O'Toole      The Stunt Man   \n",
       "\n",
       "                        wiki_url  award category  \n",
       "0              /wiki/Raging_Bull  oscar    actor  \n",
       "1        /wiki/The_Great_Santini  oscar    actor  \n",
       "2  /wiki/The_Elephant_Man_(film)  oscar    actor  \n",
       "3      /wiki/Tribute_(1980_film)  oscar    actor  \n",
       "4            /wiki/The_Stunt_Man  oscar    actor  "
      ]
     },
     "execution_count": 56,
     "metadata": {},
     "output_type": "execute_result"
    }
   ],
   "source": [
    "award_df.head()"
   ]
  },
  {
   "cell_type": "markdown",
   "id": "suitable-nature",
   "metadata": {},
   "source": [
    "### Save awards to .csv file"
   ]
  },
  {
   "cell_type": "code",
   "execution_count": 57,
   "id": "insured-brooks",
   "metadata": {},
   "outputs": [],
   "source": [
    "award_df.to_csv('../data/awards.csv', index=False)"
   ]
  },
  {
   "cell_type": "markdown",
   "id": "wicked-lender",
   "metadata": {},
   "source": [
    "### Save unique oscar nominees to .csv file"
   ]
  },
  {
   "cell_type": "code",
   "execution_count": 18,
   "id": "congressional-novel",
   "metadata": {},
   "outputs": [
    {
     "name": "stdout",
     "output_type": "stream",
     "text": [
      "There are 499 unique movies in total\n"
     ]
    }
   ],
   "source": [
    "oscar_movies = award_df[award_df['award'] == 'oscar'][['movie', 'year']]\n",
    "oscar_movies.drop_duplicates(inplace=True)\n",
    "print(f'There are {len(oscar_movies)} unique movies in total')"
   ]
  },
  {
   "cell_type": "code",
   "execution_count": 19,
   "id": "conscious-difficulty",
   "metadata": {},
   "outputs": [],
   "source": [
    "oscar_movies.to_csv('../data/oscar_movies.csv', index=False)"
   ]
  },
  {
   "cell_type": "markdown",
   "id": "decent-variety",
   "metadata": {},
   "source": [
    "## Scrap general data about movies"
   ]
  },
  {
   "cell_type": "markdown",
   "id": "native-nicholas",
   "metadata": {},
   "source": [
    "### Read unique oscar movies"
   ]
  },
  {
   "cell_type": "code",
   "execution_count": 20,
   "id": "realistic-prophet",
   "metadata": {},
   "outputs": [],
   "source": [
    "movies = pd.read_csv('../data/oscar_movies.csv')"
   ]
  },
  {
   "cell_type": "markdown",
   "id": "binding-favor",
   "metadata": {},
   "source": [
    "### Get general movies information from OMDB API"
   ]
  },
  {
   "cell_type": "code",
   "execution_count": 21,
   "id": "average-produce",
   "metadata": {},
   "outputs": [],
   "source": [
    "def get_omdb_json(movie: str, year: int) -> dict[str, Union[str, int, list]]:\n",
    "    omdb_api_key = os.environ.get('OMDB_API_KEY')\n",
    "    omdb_base_url = f'http://www.omdbapi.com/?apikey={omdb_api_key}'\n",
    "    omdb_query_url = '&'.join([omdb_base_url, f't={movie}', f'y={row.year}'])\n",
    "    omdb_json = requests.get(omdb_query_url).json()\n",
    "    return omdb_json if omdb_json['Response'] != 'False'\\\n",
    "        else requests.get(f'{omdb_base_url}&t={movie}').json()"
   ]
  },
  {
   "cell_type": "code",
   "execution_count": 36,
   "id": "solved-applicant",
   "metadata": {},
   "outputs": [],
   "source": [
    "def parse_awards(content: str) -> dict[str, int]:\n",
    "    numbers = [int(e) for e in content.split() if e.isdigit()]\n",
    "    return {'other_win': numbers[1], 'other_nom': numbers[2]}\\\n",
    "        if len(numbers) >= 3 else {}"
   ]
  },
  {
   "cell_type": "code",
   "execution_count": 23,
   "id": "august-primary",
   "metadata": {},
   "outputs": [],
   "source": [
    "def parse_rt_score(ratings: list[dict[str, str]]) -> Union[str, None]:\n",
    "    return ratings[1]['Value'][:-1] if len(ratings) >=2 else None"
   ]
  },
  {
   "cell_type": "code",
   "execution_count": 24,
   "id": "overhead-philippines",
   "metadata": {},
   "outputs": [],
   "source": [
    "def get_omdb_movie(movie: str, year: int) -> dict[str, Union[str, int]]:\n",
    "    omdb_json = get_omdb_json(movie, year)\n",
    "    movie = {'movie': movie, 'year': year}\n",
    "    movie['success'] = omdb_json['Response'] != 'False'\n",
    "    \n",
    "    if not movie['success']: # not found\n",
    "        return movie\n",
    "    \n",
    "    movie['imdb_id'] = omdb_json.get('imdbID')\n",
    "    movie['rated'] = omdb_json.get('Rated')\n",
    "    movie['runtime'] = omdb_json.get('Runtime')\n",
    "    movie['genres'] = omdb_json.get('Genre')\n",
    "    movie['director'] = omdb_json.get('Director')\n",
    "    movie['writer'] = omdb_json.get('Writer')\n",
    "    movie['cast'] = omdb_json.get('Actors')\n",
    "    movie['language'] = omdb_json.get('Language')\n",
    "    movie['country'] = omdb_json.get('Country')\n",
    "    movie['imdb_score'] = omdb_json.get('imdbRating')\n",
    "    movie['imdb_votes'] = omdb_json.get('imdbVotes')\n",
    "    movie['rt_score'] = parse_rt_score(omdb_json.get('Ratings', []))\n",
    "    movie['metascore'] = omdb_json.get('Metascore')\n",
    "    movie['box_office'] = omdb_json.get('BoxOffice')\n",
    "    awards = parse_awards(omdb_json.get('Awards', ''))\n",
    "    \n",
    "    return {**movie, **awards }"
   ]
  },
  {
   "cell_type": "code",
   "execution_count": 35,
   "id": "buried-replacement",
   "metadata": {},
   "outputs": [
    {
     "name": "stdout",
     "output_type": "stream",
     "text": [
      "env: OMDB_API_KEY='your_key'\n"
     ]
    }
   ],
   "source": [
    "%set_env OMDB_API_KEY 'your_key'"
   ]
  },
  {
   "cell_type": "code",
   "execution_count": 26,
   "id": "extreme-duncan",
   "metadata": {},
   "outputs": [
    {
     "name": "stdout",
     "output_type": "stream",
     "text": [
      "0\n",
      "100\n",
      "200\n",
      "300\n",
      "400\n"
     ]
    }
   ],
   "source": [
    "omdb_movies = []\n",
    "\n",
    "for idx, row in movies.iterrows():\n",
    "    omdb_movie = get_omdb_movie(row.movie, row.year)\n",
    "    omdb_movies.append(omdb_movie)\n",
    "    if idx % 100 == 0: print(idx)"
   ]
  },
  {
   "cell_type": "code",
   "execution_count": 27,
   "id": "unauthorized-column",
   "metadata": {},
   "outputs": [
    {
     "data": {
      "text/plain": [
       "{'movie': 'Raging Bull',\n",
       " 'year': 1980,\n",
       " 'success': True,\n",
       " 'imdb_id': 'tt0081398',\n",
       " 'rated': 'R',\n",
       " 'runtime': '129 min',\n",
       " 'genres': 'Biography, Drama, Sport',\n",
       " 'director': 'Martin Scorsese',\n",
       " 'writer': 'Jake LaMotta (based on the book by), Joseph Carter (with), Peter Savage (with), Paul Schrader (screenplay), Mardik Martin (screenplay)',\n",
       " 'cast': 'Robert De Niro, Cathy Moriarty, Joe Pesci, Frank Vincent',\n",
       " 'language': 'English',\n",
       " 'country': 'USA',\n",
       " 'imdb_score': '8.2',\n",
       " 'imdb_votes': '326,193',\n",
       " 'rt_score': '93',\n",
       " 'metascore': '89',\n",
       " 'box_office': '$23,383,987',\n",
       " 'other_win': 22,\n",
       " 'othen_nom': 28}"
      ]
     },
     "execution_count": 27,
     "metadata": {},
     "output_type": "execute_result"
    }
   ],
   "source": [
    "omdb_movies[0]"
   ]
  },
  {
   "cell_type": "code",
   "execution_count": 28,
   "id": "configured-coordinator",
   "metadata": {},
   "outputs": [
    {
     "data": {
      "text/plain": [
       "499"
      ]
     },
     "execution_count": 28,
     "metadata": {},
     "output_type": "execute_result"
    }
   ],
   "source": [
    "len(omdb_movies)"
   ]
  },
  {
   "cell_type": "markdown",
   "id": "enhanced-nudist",
   "metadata": {},
   "source": [
    "### Create dataframe"
   ]
  },
  {
   "cell_type": "code",
   "execution_count": 29,
   "id": "graphic-butler",
   "metadata": {},
   "outputs": [
    {
     "data": {
      "text/html": [
       "<div>\n",
       "<style scoped>\n",
       "    .dataframe tbody tr th:only-of-type {\n",
       "        vertical-align: middle;\n",
       "    }\n",
       "\n",
       "    .dataframe tbody tr th {\n",
       "        vertical-align: top;\n",
       "    }\n",
       "\n",
       "    .dataframe thead th {\n",
       "        text-align: right;\n",
       "    }\n",
       "</style>\n",
       "<table border=\"1\" class=\"dataframe\">\n",
       "  <thead>\n",
       "    <tr style=\"text-align: right;\">\n",
       "      <th></th>\n",
       "      <th>movie</th>\n",
       "      <th>year</th>\n",
       "      <th>success</th>\n",
       "      <th>imdb_id</th>\n",
       "      <th>rated</th>\n",
       "      <th>runtime</th>\n",
       "      <th>genres</th>\n",
       "      <th>director</th>\n",
       "      <th>writer</th>\n",
       "      <th>cast</th>\n",
       "      <th>language</th>\n",
       "      <th>country</th>\n",
       "      <th>imdb_score</th>\n",
       "      <th>imdb_votes</th>\n",
       "      <th>rt_score</th>\n",
       "      <th>metascore</th>\n",
       "      <th>box_office</th>\n",
       "      <th>other_win</th>\n",
       "      <th>othen_nom</th>\n",
       "    </tr>\n",
       "  </thead>\n",
       "  <tbody>\n",
       "    <tr>\n",
       "      <th>0</th>\n",
       "      <td>Raging Bull</td>\n",
       "      <td>1980</td>\n",
       "      <td>True</td>\n",
       "      <td>tt0081398</td>\n",
       "      <td>R</td>\n",
       "      <td>129 min</td>\n",
       "      <td>Biography, Drama, Sport</td>\n",
       "      <td>Martin Scorsese</td>\n",
       "      <td>Jake LaMotta (based on the book by), Joseph Ca...</td>\n",
       "      <td>Robert De Niro, Cathy Moriarty, Joe Pesci, Fra...</td>\n",
       "      <td>English</td>\n",
       "      <td>USA</td>\n",
       "      <td>8.2</td>\n",
       "      <td>326,193</td>\n",
       "      <td>93</td>\n",
       "      <td>89</td>\n",
       "      <td>$23,383,987</td>\n",
       "      <td>22.0</td>\n",
       "      <td>28.0</td>\n",
       "    </tr>\n",
       "    <tr>\n",
       "      <th>1</th>\n",
       "      <td>The Great Santini</td>\n",
       "      <td>1980</td>\n",
       "      <td>True</td>\n",
       "      <td>tt0079239</td>\n",
       "      <td>PG</td>\n",
       "      <td>115 min</td>\n",
       "      <td>Drama</td>\n",
       "      <td>Lewis John Carlino</td>\n",
       "      <td>Pat Conroy (novel), Lewis John Carlino (writte...</td>\n",
       "      <td>Robert Duvall, Blythe Danner, Michael O'Keefe,...</td>\n",
       "      <td>English</td>\n",
       "      <td>USA</td>\n",
       "      <td>7.2</td>\n",
       "      <td>5,756</td>\n",
       "      <td>95</td>\n",
       "      <td>64</td>\n",
       "      <td>$4,702,575</td>\n",
       "      <td>3.0</td>\n",
       "      <td>4.0</td>\n",
       "    </tr>\n",
       "    <tr>\n",
       "      <th>2</th>\n",
       "      <td>The Elephant Man</td>\n",
       "      <td>1980</td>\n",
       "      <td>True</td>\n",
       "      <td>tt0080678</td>\n",
       "      <td>PG</td>\n",
       "      <td>124 min</td>\n",
       "      <td>Biography, Drama</td>\n",
       "      <td>David Lynch</td>\n",
       "      <td>Christopher De Vore (screenplay), Eric Bergren...</td>\n",
       "      <td>Anthony Hopkins, John Hurt, Anne Bancroft, Joh...</td>\n",
       "      <td>English, French</td>\n",
       "      <td>USA, UK</td>\n",
       "      <td>8.1</td>\n",
       "      <td>224,116</td>\n",
       "      <td>92</td>\n",
       "      <td>78</td>\n",
       "      <td>$26,010,864</td>\n",
       "      <td>10.0</td>\n",
       "      <td>14.0</td>\n",
       "    </tr>\n",
       "    <tr>\n",
       "      <th>3</th>\n",
       "      <td>Tribute</td>\n",
       "      <td>1980</td>\n",
       "      <td>True</td>\n",
       "      <td>tt0081656</td>\n",
       "      <td>PG</td>\n",
       "      <td>121 min</td>\n",
       "      <td>Comedy, Drama</td>\n",
       "      <td>Bob Clark</td>\n",
       "      <td>Bernard Slade (play), Bernard Slade (screenplay)</td>\n",
       "      <td>Jack Lemmon, Robby Benson, Lee Remick, Colleen...</td>\n",
       "      <td>English</td>\n",
       "      <td>Canada</td>\n",
       "      <td>6.2</td>\n",
       "      <td>642</td>\n",
       "      <td>55</td>\n",
       "      <td>N/A</td>\n",
       "      <td>$9,000,000</td>\n",
       "      <td>2.0</td>\n",
       "      <td>13.0</td>\n",
       "    </tr>\n",
       "    <tr>\n",
       "      <th>4</th>\n",
       "      <td>The Stunt Man</td>\n",
       "      <td>1980</td>\n",
       "      <td>True</td>\n",
       "      <td>tt0081568</td>\n",
       "      <td>R</td>\n",
       "      <td>131 min</td>\n",
       "      <td>Action, Comedy, Drama, Romance, Thriller</td>\n",
       "      <td>Richard Rush</td>\n",
       "      <td>Lawrence B. Marcus (screenplay), Richard Rush ...</td>\n",
       "      <td>Peter O'Toole, Steve Railsback, Barbara Hershe...</td>\n",
       "      <td>English</td>\n",
       "      <td>USA</td>\n",
       "      <td>7.0</td>\n",
       "      <td>8,848</td>\n",
       "      <td>90</td>\n",
       "      <td>77</td>\n",
       "      <td>$7,063,886</td>\n",
       "      <td>4.0</td>\n",
       "      <td>8.0</td>\n",
       "    </tr>\n",
       "  </tbody>\n",
       "</table>\n",
       "</div>"
      ],
      "text/plain": [
       "               movie  year  success    imdb_id rated  runtime  \\\n",
       "0        Raging Bull  1980     True  tt0081398     R  129 min   \n",
       "1  The Great Santini  1980     True  tt0079239    PG  115 min   \n",
       "2   The Elephant Man  1980     True  tt0080678    PG  124 min   \n",
       "3            Tribute  1980     True  tt0081656    PG  121 min   \n",
       "4      The Stunt Man  1980     True  tt0081568     R  131 min   \n",
       "\n",
       "                                     genres            director  \\\n",
       "0                   Biography, Drama, Sport     Martin Scorsese   \n",
       "1                                     Drama  Lewis John Carlino   \n",
       "2                          Biography, Drama         David Lynch   \n",
       "3                             Comedy, Drama           Bob Clark   \n",
       "4  Action, Comedy, Drama, Romance, Thriller        Richard Rush   \n",
       "\n",
       "                                              writer  \\\n",
       "0  Jake LaMotta (based on the book by), Joseph Ca...   \n",
       "1  Pat Conroy (novel), Lewis John Carlino (writte...   \n",
       "2  Christopher De Vore (screenplay), Eric Bergren...   \n",
       "3   Bernard Slade (play), Bernard Slade (screenplay)   \n",
       "4  Lawrence B. Marcus (screenplay), Richard Rush ...   \n",
       "\n",
       "                                                cast         language  \\\n",
       "0  Robert De Niro, Cathy Moriarty, Joe Pesci, Fra...          English   \n",
       "1  Robert Duvall, Blythe Danner, Michael O'Keefe,...          English   \n",
       "2  Anthony Hopkins, John Hurt, Anne Bancroft, Joh...  English, French   \n",
       "3  Jack Lemmon, Robby Benson, Lee Remick, Colleen...          English   \n",
       "4  Peter O'Toole, Steve Railsback, Barbara Hershe...          English   \n",
       "\n",
       "   country imdb_score imdb_votes rt_score metascore   box_office  other_win  \\\n",
       "0      USA        8.2    326,193       93        89  $23,383,987       22.0   \n",
       "1      USA        7.2      5,756       95        64   $4,702,575        3.0   \n",
       "2  USA, UK        8.1    224,116       92        78  $26,010,864       10.0   \n",
       "3   Canada        6.2        642       55       N/A   $9,000,000        2.0   \n",
       "4      USA        7.0      8,848       90        77   $7,063,886        4.0   \n",
       "\n",
       "   othen_nom  \n",
       "0       28.0  \n",
       "1        4.0  \n",
       "2       14.0  \n",
       "3       13.0  \n",
       "4        8.0  "
      ]
     },
     "execution_count": 29,
     "metadata": {},
     "output_type": "execute_result"
    }
   ],
   "source": [
    "omdb_df = pd.DataFrame.from_dict(omdb_movies)\n",
    "omdb_df.head()"
   ]
  },
  {
   "cell_type": "markdown",
   "id": "innocent-dover",
   "metadata": {},
   "source": [
    "### Check for empty values"
   ]
  },
  {
   "cell_type": "code",
   "execution_count": 32,
   "id": "regional-tablet",
   "metadata": {},
   "outputs": [
    {
     "name": "stdout",
     "output_type": "stream",
     "text": [
      "There are 7 empty movies\n"
     ]
    }
   ],
   "source": [
    "omdb_empty_df = omdb_df[omdb_df['success'] == False][['movie', 'year']]\n",
    "print(f'There are {len(omdb_empty_df)} empty movies')"
   ]
  },
  {
   "cell_type": "code",
   "execution_count": 33,
   "id": "mighty-despite",
   "metadata": {},
   "outputs": [
    {
     "data": {
      "text/html": [
       "<div>\n",
       "<style scoped>\n",
       "    .dataframe tbody tr th:only-of-type {\n",
       "        vertical-align: middle;\n",
       "    }\n",
       "\n",
       "    .dataframe tbody tr th {\n",
       "        vertical-align: top;\n",
       "    }\n",
       "\n",
       "    .dataframe thead th {\n",
       "        text-align: right;\n",
       "    }\n",
       "</style>\n",
       "<table border=\"1\" class=\"dataframe\">\n",
       "  <thead>\n",
       "    <tr style=\"text-align: right;\">\n",
       "      <th></th>\n",
       "      <th>movie</th>\n",
       "      <th>year</th>\n",
       "    </tr>\n",
       "  </thead>\n",
       "  <tbody>\n",
       "    <tr>\n",
       "      <th>77</th>\n",
       "      <td>Il Postino: The Postman</td>\n",
       "      <td>1995</td>\n",
       "    </tr>\n",
       "    <tr>\n",
       "      <th>247</th>\n",
       "      <td>Mr. and Mrs. Bridge</td>\n",
       "      <td>1990</td>\n",
       "    </tr>\n",
       "    <tr>\n",
       "      <th>261</th>\n",
       "      <td>Tom and Viv</td>\n",
       "      <td>1994</td>\n",
       "    </tr>\n",
       "    <tr>\n",
       "      <th>330</th>\n",
       "      <td>Julie and Julia</td>\n",
       "      <td>2009</td>\n",
       "    </tr>\n",
       "    <tr>\n",
       "      <th>408</th>\n",
       "      <td>Three Colours: Red</td>\n",
       "      <td>1994</td>\n",
       "    </tr>\n",
       "    <tr>\n",
       "      <th>478</th>\n",
       "      <td>Precious: Based on the Novel 'Push' by Sapphire</td>\n",
       "      <td>2009</td>\n",
       "    </tr>\n",
       "    <tr>\n",
       "      <th>483</th>\n",
       "      <td>Extremely Loud and Incredibly Close</td>\n",
       "      <td>2011</td>\n",
       "    </tr>\n",
       "  </tbody>\n",
       "</table>\n",
       "</div>"
      ],
      "text/plain": [
       "                                               movie  year\n",
       "77                           Il Postino: The Postman  1995\n",
       "247                              Mr. and Mrs. Bridge  1990\n",
       "261                                      Tom and Viv  1994\n",
       "330                                  Julie and Julia  2009\n",
       "408                               Three Colours: Red  1994\n",
       "478  Precious: Based on the Novel 'Push' by Sapphire  2009\n",
       "483              Extremely Loud and Incredibly Close  2011"
      ]
     },
     "execution_count": 33,
     "metadata": {},
     "output_type": "execute_result"
    }
   ],
   "source": [
    "omdb_empty_df"
   ]
  },
  {
   "cell_type": "markdown",
   "id": "continued-option",
   "metadata": {},
   "source": [
    "### Save OMDB data to .csv file"
   ]
  },
  {
   "cell_type": "code",
   "execution_count": 34,
   "id": "lightweight-catholic",
   "metadata": {},
   "outputs": [],
   "source": [
    "omdb_df.to_csv('../data/movies.csv', index=False)"
   ]
  },
  {
   "cell_type": "code",
   "execution_count": null,
   "id": "broke-apparatus",
   "metadata": {},
   "outputs": [],
   "source": []
  }
 ],
 "metadata": {
  "kernelspec": {
   "display_name": "Python 3",
   "language": "python",
   "name": "python3"
  },
  "language_info": {
   "codemirror_mode": {
    "name": "ipython",
    "version": 3
   },
   "file_extension": ".py",
   "mimetype": "text/x-python",
   "name": "python",
   "nbconvert_exporter": "python",
   "pygments_lexer": "ipython3",
   "version": "3.9.4"
  }
 },
 "nbformat": 4,
 "nbformat_minor": 5
}
